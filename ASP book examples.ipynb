{
 "cells": [
  {
   "cell_type": "code",
   "execution_count": 5,
   "id": "d4ce6429",
   "metadata": {},
   "outputs": [
    {
     "name": "stdout",
     "output_type": "stream",
     "text": [
      "Overwriting example7.lp\n"
     ]
    }
   ],
   "source": [
    "%%file example7.lp\n",
    "% instance\n",
    "object(a).\n",
    "object(b).\n",
    "-s(a).\n",
    "% encoding\n",
    "p(X) :- not q(X), - s(X), object(X).\n",
    "q(X) :- not p(X), object(X).\n",
    "r(X) :- p(X), object(X).\n",
    "r(X) :- q(X), object(X)."
   ]
  },
  {
   "cell_type": "code",
   "execution_count": 2,
   "id": "1aa8f196",
   "metadata": {},
   "outputs": [
    {
     "name": "stdout",
     "output_type": "stream",
     "text": [
      "clingo version 5.7.1\r\n",
      "Reading from example7.lp\r\n",
      "Solving...\r\n",
      "Answer: 1\r\n",
      "object(a) object(b) -s(a) q(b) r(b) q(a) r(a)\r\n",
      "Answer: 2\r\n",
      "object(a) object(b) -s(a) q(b) r(b) p(a) r(a)\r\n",
      "SATISFIABLE\r\n",
      "\r\n",
      "Models       : 2\r\n",
      "Calls        : 1\r\n",
      "Time         : 0.003s (Solving: 0.00s 1st Model: 0.00s Unsat: 0.00s)\r\n",
      "CPU Time     : 0.001s\r\n"
     ]
    }
   ],
   "source": [
    "! clingo example7.lp 0"
   ]
  },
  {
   "cell_type": "code",
   "execution_count": 19,
   "id": "e326517c",
   "metadata": {},
   "outputs": [
    {
     "name": "stdout",
     "output_type": "stream",
     "text": [
      "Overwriting example8.lp\n"
     ]
    }
   ],
   "source": [
    "%%file example8.lp\n",
    "\n",
    "\n",
    "% Rules with variables\n",
    "object(a).\n",
    "object(b).\n",
    "\n",
    "p(a) | -p(b) :- object(a), object(b).\n",
    "q(X) :- -p(X), object(X).\n",
    "-q(X) :- not q(X), object(X).\n",
    "r(X) :- not p(X), object(X)."
   ]
  },
  {
   "cell_type": "code",
   "execution_count": 20,
   "id": "a743491b",
   "metadata": {},
   "outputs": [
    {
     "name": "stdout",
     "output_type": "stream",
     "text": [
      "clingo version 5.7.1\r\n",
      "Reading from example8.lp\r\n",
      "Solving...\r\n",
      "Answer: 1\r\n",
      "object(a) object(b) -q(a) r(b) -p(b) r(a) q(b)\r\n",
      "Answer: 2\r\n",
      "object(a) object(b) -q(a) r(b) p(a) -q(b)\r\n",
      "SATISFIABLE\r\n",
      "\r\n",
      "Models       : 2\r\n",
      "Calls        : 1\r\n",
      "Time         : 0.004s (Solving: 0.00s 1st Model: 0.00s Unsat: 0.00s)\r\n",
      "CPU Time     : 0.002s\r\n"
     ]
    }
   ],
   "source": [
    "! clingo example8.lp 0"
   ]
  },
  {
   "cell_type": "code",
   "execution_count": 25,
   "id": "0a260633",
   "metadata": {},
   "outputs": [
    {
     "name": "stdout",
     "output_type": "stream",
     "text": [
      "Writing example10.lp\n"
     ]
    }
   ],
   "source": [
    "%%file example10.lp\n",
    "\n",
    "q(a).\n",
    "p(a) :- not p(b).\n",
    "p(b) :- not p(a).\n",
    "-q(b) :- p(X), not r(X)."
   ]
  },
  {
   "cell_type": "code",
   "execution_count": 26,
   "id": "f3261071",
   "metadata": {},
   "outputs": [
    {
     "name": "stdout",
     "output_type": "stream",
     "text": [
      "clingo version 5.7.1\r\n",
      "Reading from example10.lp\r\n",
      "example10.lp:5:20-24: info: atom does not occur in any rule head:\r\n",
      "  r(X)\r\n",
      "\r\n",
      "Solving...\r\n",
      "Answer: 1\r\n",
      "q(a) p(a) -q(b)\r\n",
      "Answer: 2\r\n",
      "q(a) p(b) -q(b)\r\n",
      "SATISFIABLE\r\n",
      "\r\n",
      "Models       : 2\r\n",
      "Calls        : 1\r\n",
      "Time         : 0.003s (Solving: 0.00s 1st Model: 0.00s Unsat: 0.00s)\r\n",
      "CPU Time     : 0.002s\r\n"
     ]
    }
   ],
   "source": [
    "! clingo example10.lp 0"
   ]
  },
  {
   "cell_type": "markdown",
   "id": "6dd36fe8",
   "metadata": {},
   "source": [
    "# Question 10:\n",
    "Either the supply was increased or price controls were instituted. Instituting price controls leads to shortages. There are no shortages.” Use zero-arity predicate symbolsincreased supply, price controls and shortages."
   ]
  },
  {
   "cell_type": "code",
   "execution_count": 33,
   "id": "ab0e4177",
   "metadata": {},
   "outputs": [
    {
     "name": "stdout",
     "output_type": "stream",
     "text": [
      "Overwriting example11.lp\n"
     ]
    }
   ],
   "source": [
    "%%file example11.lp\n",
    "increased_supply | price_controls.\n",
    "shortages :- price_controls.\n",
    "-shortages."
   ]
  },
  {
   "cell_type": "code",
   "execution_count": 34,
   "id": "8b4cda84",
   "metadata": {},
   "outputs": [
    {
     "name": "stdout",
     "output_type": "stream",
     "text": [
      "clingo version 5.7.1\r\n",
      "Reading from example11.lp\r\n",
      "Solving...\r\n",
      "Answer: 1\r\n",
      "-shortages increased_supply\r\n",
      "SATISFIABLE\r\n",
      "\r\n",
      "Models       : 1\r\n",
      "Calls        : 1\r\n",
      "Time         : 0.003s (Solving: 0.00s 1st Model: 0.00s Unsat: 0.00s)\r\n",
      "CPU Time     : 0.001s\r\n"
     ]
    }
   ],
   "source": [
    "! clingo example11.lp 0"
   ]
  },
  {
   "cell_type": "markdown",
   "id": "3638862c",
   "metadata": {},
   "source": [
    "# Question 12\n",
    "Consider the following story. “If Jim does not buy toys for his children,\n",
    "Jim’s children will not receive toys for Christmas. If Jim’s children\n",
    "do not write their Christmas letters, Jim will not buy them toys. Jim’s\n",
    "children do receive toys for Christmas.” Assume that the intended interpretation of this story implies that Jim’s children wrote their Christmas\n",
    "letters.\n",
    "(a) Translate the story into an ASP program and compute the answer\n",
    "set. Use disjunction to encode the law of the exclusive middle to\n",
    "allow the program to come to the proper conclusion.\n",
    "(b) Translate the story into an ASP program and compute the answer\n",
    "set, this time making the contrapositive explicit for each statement."
   ]
  },
  {
   "cell_type": "code",
   "execution_count": null,
   "id": "8d90ab0e",
   "metadata": {},
   "outputs": [],
   "source": []
  },
  {
   "cell_type": "markdown",
   "id": "ed3f35da",
   "metadata": {},
   "source": [
    "# Chapter 4"
   ]
  },
  {
   "cell_type": "code",
   "execution_count": 110,
   "id": "a9089ea6",
   "metadata": {},
   "outputs": [
    {
     "name": "stdout",
     "output_type": "stream",
     "text": [
      "Overwriting chapter4_example.lp\n"
     ]
    }
   ],
   "source": [
    "%%file chapter4_example.lp\n",
    "person(john).\n",
    "person(sam).\n",
    "person(alice).\n",
    "person(maxmillian).\n",
    "\n",
    "gender(male).\n",
    "gender(female).\n",
    "\n",
    "father(john ,sam).\n",
    "mother(alice ,sam).\n",
    "\n",
    "gender_of(john , male).\n",
    "gender_of(alice , female).\n",
    "gender_of(sam ,male).\n",
    "gender_of(maxmillian,male).\n",
    "\n",
    "parent(X,Y) :- father(X,Y).\n",
    "parent(X,Y) :- mother(X,Y).\n",
    "\n",
    "child(X,Y) :- parent(Y,X).\n",
    "    \n",
    "brother(X,Y) :- gender_of(X, male),\n",
    "father(F,X),\n",
    "father(F,Y),\n",
    "mother(M,X),\n",
    "mother(M,Y),\n",
    "X != Y.\n",
    "\n",
    "brother(john, maxmillian).\n",
    "\n",
    "brothers(X,Y) :- gender_of(X, male),\n",
    "gender_of(Y, male),\n",
    "father(F,X),\n",
    "father(F,Y),\n",
    "mother(M,X),\n",
    "mother(M,Y),\n",
    "X != Y.\n",
    "\n",
    "uncle(X,Y) :- gender_of(X, male),\n",
    "brother(F, X),\n",
    "father(F,Y),\n",
    "X != Y.\n",
    "\n",
    "%-father(X,Y) :- gender_of(X,female), person(Y).\n",
    "    % if we removed this line along with the definition of not a father, how would this affect the queries ?father(alice, bill)? father(bill, sam) ? father(john, bob)\n",
    "\n",
    "    \n",
    "% If you took care to define the sorts of parameters of predicates, a rule with an unsafe variable X can be turned\n",
    "% into a safe rule by adding the sort of X to the body.\n",
    "    \n",
    "%-father(X,Y) :- person(X),\n",
    "%father(Z,Y),\n",
    "%X != Z.\n",
    "\n",
    "person(bob).\n",
    "\n",
    "-father(X,Y) :- person(X), person(Y), not father(X,Y).\n",
    "-mother(X,Y) :- person(X), person(Y), not mother(X,Y).\n",
    "    \n",
    "query_father_of(alice, bill) :- father(alice,bill).\n",
    "query_father_of(bill,sam) :- father(bill,sam).\n",
    "query_father_of(john,sam) :- father(john,sam).\n",
    "\n",
    "#show uncle/2.\n",
    "#show query_father_of/2."
   ]
  },
  {
   "cell_type": "code",
   "execution_count": 111,
   "id": "465c6916",
   "metadata": {},
   "outputs": [
    {
     "name": "stdout",
     "output_type": "stream",
     "text": [
      "clingo version 5.7.1\r\n",
      "Reading from chapter4_example.lp\r\n",
      "Solving...\r\n",
      "Answer: 1\r\n",
      "query_father_of(john,sam) uncle(maxmillian,sam)\r\n",
      "SATISFIABLE\r\n",
      "\r\n",
      "Models       : 1\r\n",
      "Calls        : 1\r\n",
      "Time         : 0.005s (Solving: 0.00s 1st Model: 0.00s Unsat: 0.00s)\r\n",
      "CPU Time     : 0.002s\r\n"
     ]
    }
   ],
   "source": [
    "! clingo chapter4_example.lp"
   ]
  },
  {
   "cell_type": "code",
   "execution_count": 112,
   "id": "7caddf2e",
   "metadata": {},
   "outputs": [
    {
     "name": "stdout",
     "output_type": "stream",
     "text": [
      "Overwriting chapter4_example2.lp\n"
     ]
    }
   ],
   "source": [
    "%%file chapter4_example2.lp\n",
    "\n",
    "person(mary).\n",
    "person(bob).\n",
    "person(mike).\n",
    "person(rich).\n",
    "person(kathy).\n",
    "person(patty).\n",
    "\n",
    "child(mary).\n",
    "child(bob).\n",
    "\n",
    "dead(rich).\n",
    "dead(patty).\n",
    "\n",
    " -child(X) :- person(X), not child(X).\n",
    "-father(F,C) :- person(F),child (C), not father(F,C).\n",
    "-mother(M,C) :- person(M), child (C),not mother(M,C).\n",
    "-dead(X) :- person (X), not dead(X). %can the statement person(X) be removed? nah, bcs to make it a safe variable u have to have a positive literal in the body\n",
    "    \n",
    "parents_dead(P) :- father(F,P), mother(M,P), dead(F), dead(M).\n",
    "-parents_dead(P) :- father(F,P), mother(M,P), not dead(F), not dead(M).\n",
    "\n",
    "% add code to reject input and state answer is unknown if there is a lack of info about both parents\n",
    "\n",
    "orphan(P) :- child (P), parents_dead(P).\n",
    "-orphan(X) :- person(X), -parents_dead(P)."
   ]
  },
  {
   "cell_type": "code",
   "execution_count": 113,
   "id": "3ee33d0f",
   "metadata": {},
   "outputs": [
    {
     "name": "stdout",
     "output_type": "stream",
     "text": [
      "Overwriting chapter4_example3.lp\n"
     ]
    }
   ],
   "source": [
    "%%file chapter4_example3.lp\n",
    "person(bill). person(mary). person(bob).\n",
    "person(kathy). person(mike). person(rich).\n",
    "person(patty). person(sam). person(susan).\n",
    "\n",
    "father(bob ,bill).\n",
    "father(rich ,bob).\n",
    "father(mike , mary).\n",
    "father(sam ,rich).\n",
    "mother(mary , bill).\n",
    "mother(patty ,bob).\n",
    "mother(kathy , mary).\n",
    "mother(susan , rich).\n",
    "\n",
    "-father(F,C) :- person(F), person(C), not father(F,C).\n",
    "-mother(M,C) :- person(M), person(C), not mother(M,C).\n",
    "    \n",
    "parent(X,Y) :- father(X,Y).\n",
    "parent(X,Y) :- mother(X,Y).\n",
    " -parent(X,Y) :- person(X), person(Y),not parent(X,Y).\n",
    "\n",
    "ancestor(X,Y) :- parent(X,Y).\n",
    "ancestor(X,Y) :- parent(Z,Y),ancestor(X,Z).\n",
    "-ancestor(X,Y) :- person(X), person (Y), not ancestor(X,Y)."
   ]
  },
  {
   "cell_type": "code",
   "execution_count": 120,
   "id": "b521545b",
   "metadata": {},
   "outputs": [
    {
     "name": "stdout",
     "output_type": "stream",
     "text": [
      "Overwriting chapter4_example4_circuits.lp\n"
     ]
    }
   ],
   "source": [
    "%%file chapter4_example4_circuits.lp\n",
    "\n",
    "wire(w0). \n",
    "wire(w1). \n",
    "wire(w2). \n",
    "wire(w3). \n",
    "wire(w4). \n",
    "wire(w5).\n",
    "wire(w6).\n",
    "\n",
    "gate(g0).\n",
    "type(g0, not_gate).\n",
    "input(g0, w0).\n",
    "output(g0, w1).\n",
    "\n",
    "gate(g1).\n",
    "type(g1, and_gate).\n",
    "input(g1, w1).\n",
    "input(g1, w2).\n",
    "input(g1, w3).\n",
    "output(g1, w4).\n",
    "\n",
    "gate(g2).\n",
    "type(g2, or_gate).\n",
    "input(g2, w4).\n",
    "input(g2, w3).\n",
    "output(g2, w5).\n",
    "\n",
    "gate(g3).\n",
    "type(g3, and_gate).\n",
    "input(g3, w3).\n",
    "input(g3,w5).\n",
    "output(g3,w6).\n",
    "\n",
    "signal(0).\n",
    "signal(1).\n",
    "\n",
    "val(w0 ,0).\n",
    "val(w2 ,0).\n",
    "val(w3 ,0).\n",
    "\n",
    "% A NOT gate flips the value of the signal:\n",
    "\n",
    "opposite(0, 1).\n",
    "opposite(1, 0).\n",
    "\n",
    "val(W1, V1) :- output(G, W1),\n",
    "               type(G, not_gate),\n",
    "               input(G, W0),\n",
    "               val(W0, V0),\n",
    "               opposite(V1, V0).\n",
    "\n",
    "% The output of an AND gate is 0 if at least one input is 0:\n",
    "\n",
    "val(W1, 0) :- output(G, W1),\n",
    "              type(G, and_gate),\n",
    "              input(G, W0),\n",
    "              val(W0, 0).\n",
    "\n",
    "% It is 1 otherwise:\n",
    "\n",
    "val(W1, 1) :- output(G, W1),\n",
    "              type(G, and_gate),\n",
    "              -val(W1, 0).\n",
    "\n",
    "% The output of an OR gate is 1 if at least one input is 1:\n",
    "\n",
    "val(W1, 1) :- output(G, W1),\n",
    "              type(G, or_gate),\n",
    "              input(G, W0),\n",
    "              val(W0, 1).\n",
    "\n",
    "% It is 0 otherwise:\n",
    "\n",
    "val(W1, 0) :- output(G, W1),\n",
    "              type(G, or_gate),\n",
    "              -val(W1, 1).\n",
    "\n",
    "-val(W,V) :- wire(W), signal(V),not val(W,V).\n",
    "\n",
    "-val(W,V1) :- signal(V1), val(W,V2), V1 != V2.\n",
    "    \n",
    "\n",
    "% sensor rules and defective gate detection\n",
    "defective(G) :- output(G, Output_wire),\n",
    "                sensor_val(Output_wire, SV),\n",
    "                val(Output_wire, V),\n",
    "                SV != V.\n",
    "\n",
    "needs_replacing(G) :- defective(G).\n",
    "\n",
    "% dangerous to replace rule\n",
    "dangerous_to_replace(G) :- input(G, W),\n",
    "                           not val(W, 0).\n",
    "    \n",
    "#show val/2."
   ]
  },
  {
   "cell_type": "code",
   "execution_count": 121,
   "id": "0cc04859",
   "metadata": {},
   "outputs": [
    {
     "name": "stdout",
     "output_type": "stream",
     "text": [
      "clingo version 5.7.1\n",
      "Reading from chapter4_example4_circuits.lp\n",
      "chapter4_example4_circuits.lp:85:17-44: info: atom does not occur in any rule head:\n",
      "  sensor_val(Output_wire,SV)\n",
      "\n",
      "Solving...\n",
      "Answer: 1\n",
      "val(w0,0) val(w2,0) val(w3,0) val(w4,0) val(w6,0) val(w1,1) val(w5,0)\n",
      "SATISFIABLE\n",
      "\n",
      "Models       : 1\n",
      "Calls        : 1\n",
      "Time         : 0.018s (Solving: 0.00s 1st Model: 0.00s Unsat: 0.00s)\n",
      "CPU Time     : 0.003s\n"
     ]
    }
   ],
   "source": [
    "! clingo chapter4_example4_circuits.lp"
   ]
  },
  {
   "cell_type": "code",
   "execution_count": 56,
   "id": "05e05acf",
   "metadata": {},
   "outputs": [
    {
     "name": "stdout",
     "output_type": "stream",
     "text": [
      "Writing chapter4_example5_submarines.lp\n"
     ]
    }
   ],
   "source": [
    "%%file chapter4_example5_submarines.lp\n",
    "\n",
    "class(sub).\n",
    "class(car).\n",
    "class(vehicle).\n",
    "\n",
    "is_subclass(sub ,vehicle).\n",
    "is_subclass(car ,vehicle).\n",
    "\n",
    "-subclass(C1 ,C2) :- class(C1),\n",
    "class(C2),\n",
    "not subclass(C1 ,C2).\n",
    "\n",
    "object(narwhal).\n",
    "\n",
    "is_a(narwhal ,sub).\n",
    "\n",
    "member(X,C) :- is_a(X,C).\n",
    "member(X,C) :- is_a(X,C0), subclass(C0 ,C).\n",
    "    \n",
    "object(mystery).\n",
    "is_a(mystery , vehicle).\n",
    "\n",
    "siblings(C1 ,C2) :- is_subclass(C1 ,C), is_subclass(C2 ,C), C1 != C2.\n",
    "-member(X,C2) :- member(X,C1), siblings(C1 ,C2), C1 != C2.\n",
    "    \n",
    "color(black).\n",
    "color(red).\n",
    "color(white).\n",
    "\n",
    "has_color(X, black) :- member(X,sub).\n",
    "    \n",
    "-has_color(X,C2) :- has_color(X,C1), color(C2), C1 != C2.\n",
    "    \n",
    "part_of( narwhal , us_navy).\n",
    "\n",
    "class(machine).\n",
    "is_subclass( vehicle , machine).\n",
    "\n",
    "used_for_travel(X) :- member(X,vehicle).\n",
    "    \n",
    "-alive(X) :- member(X,machine)."
   ]
  },
  {
   "cell_type": "markdown",
   "id": "5e43d231",
   "metadata": {},
   "source": [
    "# Question 7: Directed graphs\n",
    "\n",
    "A directed graph G can be described by a set of vertices, represented by facts vertex(a), vertex(b),... and a set of edges, represented by facts edge(a, b), edge(a, c),... Use ASP to define relation\n",
    "connected(X, Y ) that holds iff there is a path in G connecting vertices\n",
    "X and Y\n",
    "\n",
    "# Question 8\n",
    "Consider a directed graph represented as in the previous exercise,\n",
    "but assume that some of its edges can be blocked (denoted as\n",
    "blocked(X, Y )). Redefine relation connected(X, Y ) as follows: Two\n",
    "vertices X and Y of the graph are connected iff there a path from X\n",
    "to Y such that no edge of this path is blocked."
   ]
  },
  {
   "cell_type": "code",
   "execution_count": 128,
   "id": "5d7d0a68",
   "metadata": {},
   "outputs": [
    {
     "name": "stdout",
     "output_type": "stream",
     "text": [
      "Overwriting chapter_4_question7_directedgraphs.lp\n"
     ]
    }
   ],
   "source": [
    "%%file chapter_4_question7_directedgraphs.lp\n",
    "\n",
    "vertex(a).\n",
    "vertex(b).\n",
    "vertex(c).\n",
    "vertex(d).\n",
    "vertex(e).\n",
    "vertex(f).\n",
    "\n",
    "edge(a,b).\n",
    "edge(a,c).\n",
    "edge(c,d).\n",
    "edge(e,f).\n",
    "\n",
    "connected(X,Y) :- edge(X,Y), not blocked(X,Y).\n",
    "connected(X,Y) :- edge(X,Z), not blocked(X,Z), edge(Z,Y), not blocked(Z,Y).\n",
    "    \n",
    "#show connected/2.\n",
    "    "
   ]
  },
  {
   "cell_type": "code",
   "execution_count": null,
   "id": "c2b54cd9",
   "metadata": {},
   "outputs": [],
   "source": [
    "! clingo chapter_4_question7_directedgraphs.lp"
   ]
  },
  {
   "cell_type": "markdown",
   "id": "a720b32d",
   "metadata": {},
   "source": []
  },
  {
   "cell_type": "code",
   "execution_count": null,
   "id": "da9e5386",
   "metadata": {},
   "outputs": [],
   "source": []
  }
 ],
 "metadata": {
  "kernelspec": {
   "display_name": "Python 3 (ipykernel)",
   "language": "python",
   "name": "python3"
  },
  "language_info": {
   "codemirror_mode": {
    "name": "ipython",
    "version": 3
   },
   "file_extension": ".py",
   "mimetype": "text/x-python",
   "name": "python",
   "nbconvert_exporter": "python",
   "pygments_lexer": "ipython3",
   "version": "3.11.4"
  }
 },
 "nbformat": 4,
 "nbformat_minor": 5
}
