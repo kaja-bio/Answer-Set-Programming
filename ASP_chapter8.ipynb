{
 "cells": [
  {
   "cell_type": "markdown",
   "id": "90bdc798",
   "metadata": {},
   "source": [
    "# Chapter 8"
   ]
  },
  {
   "cell_type": "code",
   "execution_count": 3,
   "id": "9cb46faf",
   "metadata": {},
   "outputs": [
    {
     "name": "stdout",
     "output_type": "stream",
     "text": [
      "Overwriting chapter8_blocks.sp\n"
     ]
    }
   ],
   "source": [
    "%%file chapter8_blocks.sp\n",
    "\n",
    "#maxint=1000.\n",
    "sorts\n",
    "#block=[b][0..7].\n",
    "#location=#block+{t}.\n",
    "#inertial_fluent=on(#block(X),#location(Y)):X!=Y.\n",
    "#defined_fluent=above(#block(X),#location(Y)):X!=Y.\n",
    "#fluent=#inertial_fluent + #defined_fluent.\n",
    "#action=put(#block(X),#location(Y)):X!=Y.\n",
    "#step=0..2.\n",
    "predicates\n",
    "holds(#fluent,#step).\n",
    "occurs(#action,#step).\n",
    "\n",
    "rules\n",
    "%initial:\n",
    "holds(on(b0,t),0).\n",
    "holds(on(b3,b0),0).\n",
    "holds(on(b2,b3),0).\n",
    "holds(on(b1,t),0).\n",
    "holds(on(b4,b1),0).\n",
    "holds(on(b5,t),0).\n",
    "holds(on(b6,b5),0).\n",
    "holds(on(b7,b6),0).\n",
    "%% If block B is not known to be on location L at step 0,\n",
    "%% then we assume it is not.\n",
    "-holds(on(B,L),0) :- not holds(on(B,L),0).\n",
    "holds(on(B,L),I+1) :- occurs(put(B,L),I).\n",
    "%rule1\n",
    "-holds(on(B,L2),I) :- holds(on(B,L1),I),L1 != L2.\n",
    "%% rule 2\n",
    "%Another useful rule says that no block can support more than one block\n",
    "%directly on top of it\n",
    "-holds(on(B2,B),I) :- holds(on(B1,B),I),B1 != B2,#block(B).\n",
    "%inertia axioms:\n",
    "\n",
    "holds(F,I+1) :- #inertial_fluent(F), holds(F,I), not -holds(F,I+1).\n",
    " \n",
    "-holds(F,I+1) :- #inertial_fluent(F), -holds(F,I), not holds(F,I+1). \n",
    "    \n",
    "%%rule3 - defining blocks above other blocks\n",
    "\n",
    "holds(above(B,L),I) :- holds(on(B,L),I).\n",
    "holds(above(B,L),I) :- holds(on(B,B1),I), holds(above(B1 ,L),I).\n",
    "-holds(above(B,L),I) :-  #defined_fluent(F), not holds(above(B,L),I).\n",
    "\n",
    "%impossibility:\n",
    "-occurs(put(B,L),I) :- holds(on(B1,B),I). %% rule 5a\n",
    "-occurs(put(B1,B),I) :- holds(on(B2,B),I), #block(B). %% rule 5b\n",
    "\n",
    "%some actions:\n",
    "occurs(put(b2,t),0).\n",
    "occurs(put(b7,b2),1)."
   ]
  },
  {
   "cell_type": "code",
   "execution_count": null,
   "id": "21df750e",
   "metadata": {},
   "outputs": [
    {
     "name": "stdout",
     "output_type": "stream",
     "text": [
      "SPARC  V2.57\n",
      "program translated\n",
      "?- "
     ]
    }
   ],
   "source": [
    "! java -jar sparc.jar chapter8_blocks.sp"
   ]
  },
  {
   "cell_type": "code",
   "execution_count": 4,
   "id": "3286489e",
   "metadata": {},
   "outputs": [
    {
     "name": "stdout",
     "output_type": "stream",
     "text": [
      "Overwriting briefcase.lp\n"
     ]
    }
   ],
   "source": [
    "%%file briefcase.lp\n",
    "\n",
    "%%Domain Signature\n",
    "clasp(1).\n",
    "clasp(2).\n",
    "\n",
    "fluent( inertial , up(C)) :- clasp(C).\n",
    "fluent( defined , open).\n",
    "action(toggle(C)) :- clasp(C).\n",
    "#const n = 1.\n",
    "step(0..n).\n",
    "\n",
    "%% toggle(C) causes up(C) if -up(C)\n",
    "holds(up(C),I+1) :- occurs(toggle(C),I),\n",
    "-holds(up(C), I),\n",
    "I < n.\n",
    "\n",
    "%% toggle(C) causes -up(C) if up(C)\n",
    "-holds(up(C),I+1) :- occurs(toggle(C),I),\n",
    "holds(up(C),I),\n",
    "I < n.\n",
    "\n",
    "%% open if up(1), up(2).\n",
    "holds(open ,I) :- holds(up(1),I),\n",
    "holds(up(2),I).\n",
    "\n",
    "%% CWA for Defined Fluents\n",
    "-holds(F,I) :- fluent( defined ,F),\n",
    "step(I),\n",
    "not holds(F,I).\n",
    "\n",
    "\n",
    "%% General Inertia Axiom\n",
    "holds(F,I+1) :- fluent( inertial ,F),\n",
    "holds(F,I),\n",
    "not -holds(F,I+1),\n",
    "I < n.\n",
    "-holds(F,I+1) :- fluent (inertial ,F),\n",
    "-holds(F,I),\n",
    "not holds(F,I+1),\n",
    "I < n.\n",
    "\n",
    "%% CWA for actions\n",
    "-occurs(A,I) :- action(A), step(I),\n",
    "not occurs(A,I).\n",
    "\n",
    "%% Initial Situation\n",
    "-holds(up(1),0).\n",
    "holds(up(2),0).\n",
    "-holds(open ,0).\n",
    "%% Action\n",
    "occurs(toggle (1),0).\n",
    "%% Display\n",
    "#show holds/2.\n",
    "#show -holds/2."
   ]
  },
  {
   "cell_type": "code",
   "execution_count": 5,
   "id": "485e3e1a",
   "metadata": {},
   "outputs": [
    {
     "name": "stdout",
     "output_type": "stream",
     "text": [
      "clingo version 5.7.1\r\n",
      "Reading from briefcase.lp\r\n",
      "Solving...\r\n",
      "Answer: 1\r\n",
      "holds(up(2),0) holds(up(1),1) -holds(up(1),0) -holds(open,0) holds(open,1) holds(up(2),1)\r\n",
      "SATISFIABLE\r\n",
      "\r\n",
      "Models       : 1\r\n",
      "Calls        : 1\r\n",
      "Time         : 0.004s (Solving: 0.00s 1st Model: 0.00s Unsat: 0.00s)\r\n",
      "CPU Time     : 0.002s\r\n"
     ]
    }
   ],
   "source": [
    "! clingo briefcase.lp"
   ]
  },
  {
   "cell_type": "code",
   "execution_count": 10,
   "id": "aaccf22e",
   "metadata": {},
   "outputs": [
    {
     "name": "stdout",
     "output_type": "stream",
     "text": [
      "Overwriting chapter8_blocksal.lp\n"
     ]
    }
   ],
   "source": [
    "%%file chapter8_blocksal.lp\n",
    "\n",
    "block(b0). block(b1). block(b2). block(b3).\n",
    "block(b4). block(b5). block(b6). block(b7).\n",
    "\n",
    "location(X) :- block(X).\n",
    "location(t).\n",
    "\n",
    "fluent( inertial , on(B,L)) :- block(B), location(L).\n",
    "fluent( defined , above (B,L)) :- block(B), location(L).\n",
    "action(put(B,L)) :- block(B), location(L),\n",
    "B != L.\n",
    "\n",
    "#const n = 1.\n",
    "step(0..n).\n",
    "\n",
    "holds(on(B,L),I+1) :- occurs(put(B,L),I), I < n.\n",
    "    \n",
    "-holds(on(B,L2),I) :- holds(on(B,L1),I), location(L2),L1 != L2.\n",
    "    \n",
    "-holds(on(B2 ,B),I) :- holds(on(B1 ,B),I),block (B), \n",
    "    block(B2),\n",
    "    B1 != B2.\n",
    "    \n",
    "holds(above(B2 ,B1),I) :- holds(on(B2 ,B1),I).\n",
    "\n",
    "holds(above(B2 ,B1),I) :- holds(on(B2 ,B),I),\n",
    "holds(above(B,B1),I).\n",
    "\n",
    "-occurs(put(B,L),I) :- location (L),\n",
    "holds(on(B1 ,B),I).\n",
    "\n",
    "-occurs(put(B1 ,B),I) :- block(B1), block(B),\n",
    "holds(on(B2 ,B),I).\n",
    "\n",
    "%% CWA for Defined Fluents\n",
    "\n",
    "-holds(F,I) :- fluent( defined ,F), step (I), not holds(F,I).\n",
    "    \n",
    "%% General Inertia Axiom\n",
    "\n",
    "holds(F,I+1) :- fluent( inertial ,F),\n",
    "holds(F,I),\n",
    "not -holds(F,I+1),\n",
    "I < n.\n",
    "\n",
    "-holds(F,I+1) :- fluent (inertial ,F),\n",
    "-holds(F,I),\n",
    "not holds(F,I+1),\n",
    "I < n.\n",
    "\n",
    "%% CWA for Actions\n",
    "-occurs(A,I) :- action(A), step(I),\n",
    "not occurs(A,I).\n",
    "\n",
    "-occurs(put(B1 ,L),I) | -occurs(put(B2 ,B1),I) :- step(I), action(put(B1 ,L)),action(put(B2 ,B1)).\n",
    "\n",
    "occurs(put(b2 ,t) ,0).\n",
    "occurs(put(b4 ,b7) ,0)."
   ]
  },
  {
   "cell_type": "code",
   "execution_count": 11,
   "id": "fc675a58",
   "metadata": {},
   "outputs": [
    {
     "name": "stdout",
     "output_type": "stream",
     "text": [
      "clingo version 5.7.1\r\n",
      "Reading from chapter8_blocksal.lp\r\n",
      "Solving...\r\n",
      "Answer: 1\r\n",
      "block(b0) block(b1) block(b2) block(b3) block(b4) block(b5) block(b6) block(b7) location(t) location(b0) location(b1) location(b2) location(b3) location(b4) location(b5) location(b6) location(b7) fluent(inertial,on(b0,t)) fluent(inertial,on(b0,b0)) fluent(inertial,on(b0,b1)) fluent(inertial,on(b0,b2)) fluent(inertial,on(b0,b3)) fluent(inertial,on(b0,b4)) fluent(inertial,on(b0,b5)) fluent(inertial,on(b0,b6)) fluent(inertial,on(b0,b7)) fluent(inertial,on(b1,t)) fluent(inertial,on(b1,b0)) fluent(inertial,on(b1,b1)) fluent(inertial,on(b1,b2)) fluent(inertial,on(b1,b3)) fluent(inertial,on(b1,b4)) fluent(inertial,on(b1,b5)) fluent(inertial,on(b1,b6)) fluent(inertial,on(b1,b7)) fluent(inertial,on(b2,t)) fluent(inertial,on(b2,b0)) fluent(inertial,on(b2,b1)) fluent(inertial,on(b2,b2)) fluent(inertial,on(b2,b3)) fluent(inertial,on(b2,b4)) fluent(inertial,on(b2,b5)) fluent(inertial,on(b2,b6)) fluent(inertial,on(b2,b7)) fluent(inertial,on(b3,t)) fluent(inertial,on(b3,b0)) fluent(inertial,on(b3,b1)) fluent(inertial,on(b3,b2)) fluent(inertial,on(b3,b3)) fluent(inertial,on(b3,b4)) fluent(inertial,on(b3,b5)) fluent(inertial,on(b3,b6)) fluent(inertial,on(b3,b7)) fluent(inertial,on(b4,t)) fluent(inertial,on(b4,b0)) fluent(inertial,on(b4,b1)) fluent(inertial,on(b4,b2)) fluent(inertial,on(b4,b3)) fluent(inertial,on(b4,b4)) fluent(inertial,on(b4,b5)) fluent(inertial,on(b4,b6)) fluent(inertial,on(b4,b7)) fluent(inertial,on(b5,t)) fluent(inertial,on(b5,b0)) fluent(inertial,on(b5,b1)) fluent(inertial,on(b5,b2)) fluent(inertial,on(b5,b3)) fluent(inertial,on(b5,b4)) fluent(inertial,on(b5,b5)) fluent(inertial,on(b5,b6)) fluent(inertial,on(b5,b7)) fluent(inertial,on(b6,t)) fluent(inertial,on(b6,b0)) fluent(inertial,on(b6,b1)) fluent(inertial,on(b6,b2)) fluent(inertial,on(b6,b3)) fluent(inertial,on(b6,b4)) fluent(inertial,on(b6,b5)) fluent(inertial,on(b6,b6)) fluent(inertial,on(b6,b7)) fluent(inertial,on(b7,t)) fluent(inertial,on(b7,b0)) fluent(inertial,on(b7,b1)) fluent(inertial,on(b7,b2)) fluent(inertial,on(b7,b3)) fluent(inertial,on(b7,b4)) fluent(inertial,on(b7,b5)) fluent(inertial,on(b7,b6)) fluent(inertial,on(b7,b7)) fluent(defined,above(b0,t)) fluent(defined,above(b0,b0)) fluent(defined,above(b0,b1)) fluent(defined,above(b0,b2)) fluent(defined,above(b0,b3)) fluent(defined,above(b0,b4)) fluent(defined,above(b0,b5)) fluent(defined,above(b0,b6)) fluent(defined,above(b0,b7)) fluent(defined,above(b1,t)) fluent(defined,above(b1,b0)) fluent(defined,above(b1,b1)) fluent(defined,above(b1,b2)) fluent(defined,above(b1,b3)) fluent(defined,above(b1,b4)) fluent(defined,above(b1,b5)) fluent(defined,above(b1,b6)) fluent(defined,above(b1,b7)) fluent(defined,above(b2,t)) fluent(defined,above(b2,b0)) fluent(defined,above(b2,b1)) fluent(defined,above(b2,b2)) fluent(defined,above(b2,b3)) fluent(defined,above(b2,b4)) fluent(defined,above(b2,b5)) fluent(defined,above(b2,b6)) fluent(defined,above(b2,b7)) fluent(defined,above(b3,t)) fluent(defined,above(b3,b0)) fluent(defined,above(b3,b1)) fluent(defined,above(b3,b2)) fluent(defined,above(b3,b3)) fluent(defined,above(b3,b4)) fluent(defined,above(b3,b5)) fluent(defined,above(b3,b6)) fluent(defined,above(b3,b7)) fluent(defined,above(b4,t)) fluent(defined,above(b4,b0)) fluent(defined,above(b4,b1)) fluent(defined,above(b4,b2)) fluent(defined,above(b4,b3)) fluent(defined,above(b4,b4)) fluent(defined,above(b4,b5)) fluent(defined,above(b4,b6)) fluent(defined,above(b4,b7)) fluent(defined,above(b5,t)) fluent(defined,above(b5,b0)) fluent(defined,above(b5,b1)) fluent(defined,above(b5,b2)) fluent(defined,above(b5,b3)) fluent(defined,above(b5,b4)) fluent(defined,above(b5,b5)) fluent(defined,above(b5,b6)) fluent(defined,above(b5,b7)) fluent(defined,above(b6,t)) fluent(defined,above(b6,b0)) fluent(defined,above(b6,b1)) fluent(defined,above(b6,b2)) fluent(defined,above(b6,b3)) fluent(defined,above(b6,b4)) fluent(defined,above(b6,b5)) fluent(defined,above(b6,b6)) fluent(defined,above(b6,b7)) fluent(defined,above(b7,t)) fluent(defined,above(b7,b0)) fluent(defined,above(b7,b1)) fluent(defined,above(b7,b2)) fluent(defined,above(b7,b3)) fluent(defined,above(b7,b4)) fluent(defined,above(b7,b5)) fluent(defined,above(b7,b6)) fluent(defined,above(b7,b7)) action(put(b0,t)) action(put(b0,b1)) action(put(b0,b2)) action(put(b0,b3)) action(put(b0,b4)) action(put(b0,b5)) action(put(b0,b6)) action(put(b0,b7)) action(put(b1,t)) action(put(b1,b0)) action(put(b1,b2)) action(put(b1,b3)) action(put(b1,b4)) action(put(b1,b5)) action(put(b1,b6)) action(put(b1,b7)) action(put(b2,t)) action(put(b2,b0)) action(put(b2,b1)) action(put(b2,b3)) action(put(b2,b4)) action(put(b2,b5)) action(put(b2,b6)) action(put(b2,b7)) action(put(b3,t)) action(put(b3,b0)) action(put(b3,b1)) action(put(b3,b2)) action(put(b3,b4)) action(put(b3,b5)) action(put(b3,b6)) action(put(b3,b7)) action(put(b4,t)) action(put(b4,b0)) action(put(b4,b1)) action(put(b4,b2)) action(put(b4,b3)) action(put(b4,b5)) action(put(b4,b6)) action(put(b4,b7)) action(put(b5,t)) action(put(b5,b0)) action(put(b5,b1)) action(put(b5,b2)) action(put(b5,b3)) action(put(b5,b4)) action(put(b5,b6)) action(put(b5,b7)) action(put(b6,t)) action(put(b6,b0)) action(put(b6,b1)) action(put(b6,b2)) action(put(b6,b3)) action(put(b6,b4)) action(put(b6,b5)) action(put(b6,b7)) action(put(b7,t)) action(put(b7,b0)) action(put(b7,b1)) action(put(b7,b2)) action(put(b7,b3)) action(put(b7,b4)) action(put(b7,b5)) action(put(b7,b6)) step(0) step(1) occurs(put(b2,t),0) occurs(put(b4,b7),0) holds(on(b2,t),1) holds(on(b4,b7),1) holds(above(b4,b7),1) holds(above(b2,t),1) -holds(on(b2,b0),1) -holds(on(b2,b1),1) -holds(on(b2,b2),1) -holds(on(b2,b3),1) -holds(on(b2,b4),1) -holds(on(b2,b5),1) -holds(on(b2,b6),1) -holds(on(b2,b7),1) -holds(on(b4,t),1) -holds(on(b4,b0),1) -holds(on(b4,b1),1) -holds(on(b4,b2),1) -holds(on(b4,b3),1) -holds(on(b4,b4),1) -holds(on(b4,b5),1) -holds(on(b4,b6),1) -holds(on(b0,b7),1) -holds(on(b1,b7),1) -holds(on(b3,b7),1) -holds(on(b5,b7),1) -holds(on(b6,b7),1) -holds(on(b7,b7),1) -holds(above(b0,t),0) -holds(above(b0,b0),0) -holds(above(b0,b1),0) -holds(above(b0,b2),0) -holds(above(b0,b3),0) -holds(above(b0,b4),0) -holds(above(b0,b5),0) -holds(above(b0,b6),0) -holds(above(b0,b7),0) -holds(above(b1,t),0) -holds(above(b1,b0),0) -holds(above(b1,b1),0) -holds(above(b1,b2),0) -holds(above(b1,b3),0) -holds(above(b1,b4),0) -holds(above(b1,b5),0) -holds(above(b1,b6),0) -holds(above(b1,b7),0) -holds(above(b2,t),0) -holds(above(b2,b0),0) -holds(above(b2,b1),0) -holds(above(b2,b2),0) -holds(above(b2,b3),0) -holds(above(b2,b4),0) -holds(above(b2,b5),0) -holds(above(b2,b6),0) -holds(above(b2,b7),0) -holds(above(b3,t),0) -holds(above(b3,b0),0) -holds(above(b3,b1),0) -holds(above(b3,b2),0) -holds(above(b3,b3),0) -holds(above(b3,b4),0) -holds(above(b3,b5),0) -holds(above(b3,b6),0) -holds(above(b3,b7),0) -holds(above(b4,t),0) -holds(above(b4,b0),0) -holds(above(b4,b1),0) -holds(above(b4,b2),0) -holds(above(b4,b3),0) -holds(above(b4,b4),0) -holds(above(b4,b5),0) -holds(above(b4,b6),0) -holds(above(b4,b7),0) -holds(above(b5,t),0) -holds(above(b5,b0),0) -holds(above(b5,b1),0) -holds(above(b5,b2),0) -holds(above(b5,b3),0) -holds(above(b5,b4),0) -holds(above(b5,b5),0) -holds(above(b5,b6),0) -holds(above(b5,b7),0) -holds(above(b6,t),0) -holds(above(b6,b0),0) -holds(above(b6,b1),0) -holds(above(b6,b2),0) -holds(above(b6,b3),0) -holds(above(b6,b4),0) -holds(above(b6,b5),0) -holds(above(b6,b6),0) -holds(above(b6,b7),0) -holds(above(b7,t),0) -holds(above(b7,b0),0) -holds(above(b7,b1),0) -holds(above(b7,b2),0) -holds(above(b7,b3),0) -holds(above(b7,b4),0) -holds(above(b7,b5),0) -holds(above(b7,b6),0) -holds(above(b7,b7),0) -holds(above(b0,t),1) -holds(above(b0,b0),1) -holds(above(b0,b1),1) -holds(above(b0,b2),1) -holds(above(b0,b3),1) -holds(above(b0,b4),1) -holds(above(b0,b5),1) -holds(above(b0,b6),1) -holds(above(b0,b7),1) -holds(above(b1,t),1) -holds(above(b1,b0),1) -holds(above(b1,b1),1) -holds(above(b1,b2),1) -holds(above(b1,b3),1) -holds(above(b1,b4),1) -holds(above(b1,b5),1) -holds(above(b1,b6),1) -holds(above(b1,b7),1) -holds(above(b2,b0),1) -holds(above(b2,b1),1) -holds(above(b2,b2),1) -holds(above(b2,b3),1) -holds(above(b2,b4),1) -holds(above(b2,b5),1) -holds(above(b2,b6),1) -holds(above(b2,b7),1) -holds(above(b3,t),1) -holds(above(b3,b0),1) -holds(above(b3,b1),1) -holds(above(b3,b2),1) -holds(above(b3,b3),1) -holds(above(b3,b4),1) -holds(above(b3,b5),1) -holds(above(b3,b6),1) -holds(above(b3,b7),1) -holds(above(b4,t),1) -holds(above(b4,b0),1) -holds(above(b4,b1),1) -holds(above(b4,b2),1) -holds(above(b4,b3),1) -holds(above(b4,b4),1) -holds(above(b4,b5),1) -holds(above(b4,b6),1) -holds(above(b5,t),1) -holds(above(b5,b0),1) -holds(above(b5,b1),1) -holds(above(b5,b2),1) -holds(above(b5,b3),1) -holds(above(b5,b4),1) -holds(above(b5,b5),1) -holds(above(b5,b6),1) -holds(above(b5,b7),1) -holds(above(b6,t),1) -holds(above(b6,b0),1) -holds(above(b6,b1),1) -holds(above(b6,b2),1) -holds(above(b6,b3),1) -holds(above(b6,b4),1) -holds(above(b6,b5),1) -holds(above(b6,b6),1) -holds(above(b6,b7),1) -holds(above(b7,t),1) -holds(above(b7,b0),1) -holds(above(b7,b1),1) -holds(above(b7,b2),1) -holds(above(b7,b3),1) -holds(above(b7,b4),1) -holds(above(b7,b5),1) -holds(above(b7,b6),1) -holds(above(b7,b7),1) -occurs(put(b0,t),0) -occurs(put(b1,b0),0) -occurs(put(b2,b0),0) -occurs(put(b3,b0),0) -occurs(put(b4,b0),0) -occurs(put(b5,b0),0) -occurs(put(b6,b0),0) -occurs(put(b7,b0),0) -occurs(put(b0,b1),0) -occurs(put(b0,b2),0) -occurs(put(b0,b3),0) -occurs(put(b0,b4),0) -occurs(put(b0,b5),0) -occurs(put(b0,b6),0) -occurs(put(b0,b7),0) -occurs(put(b1,t),0) -occurs(put(b2,b1),0) -occurs(put(b3,b1),0) -occurs(put(b4,b1),0) -occurs(put(b5,b1),0) -occurs(put(b6,b1),0) -occurs(put(b7,b1),0) -occurs(put(b1,b2),0) -occurs(put(b1,b3),0) -occurs(put(b1,b4),0) -occurs(put(b1,b5),0) -occurs(put(b1,b6),0) -occurs(put(b1,b7),0) -occurs(put(b3,b2),0) -occurs(put(b4,b2),0) -occurs(put(b5,b2),0) -occurs(put(b6,b2),0) -occurs(put(b7,b2),0) -occurs(put(b2,b3),0) -occurs(put(b2,b4),0) -occurs(put(b2,b5),0) -occurs(put(b2,b6),0) -occurs(put(b2,b7),0) -occurs(put(b3,t),0) -occurs(put(b4,b3),0) -occurs(put(b5,b3),0) -occurs(put(b6,b3),0) -occurs(put(b7,b3),0) -occurs(put(b3,b4),0) -occurs(put(b3,b5),0) -occurs(put(b3,b6),0) -occurs(put(b3,b7),0) -occurs(put(b4,t),0) -occurs(put(b5,b4),0) -occurs(put(b6,b4),0) -occurs(put(b7,b4),0) -occurs(put(b4,b5),0) -occurs(put(b4,b6),0) -occurs(put(b5,t),0) -occurs(put(b6,b5),0) -occurs(put(b7,b5),0) -occurs(put(b5,b6),0) -occurs(put(b5,b7),0) -occurs(put(b6,t),0) -occurs(put(b7,b6),0) -occurs(put(b6,b7),0) -occurs(put(b7,t),0) -occurs(put(b0,t),1) -occurs(put(b1,b0),1) -occurs(put(b2,b0),1) -occurs(put(b3,b0),1) -occurs(put(b4,b0),1) -occurs(put(b5,b0),1) -occurs(put(b6,b0),1) -occurs(put(b7,b0),1) -occurs(put(b0,b1),1) -occurs(put(b0,b2),1) -occurs(put(b0,b3),1) -occurs(put(b0,b4),1) -occurs(put(b0,b5),1) -occurs(put(b0,b6),1) -occurs(put(b0,b7),1) -occurs(put(b1,t),1) -occurs(put(b2,b1),1) -occurs(put(b3,b1),1) -occurs(put(b4,b1),1) -occurs(put(b5,b1),1) -occurs(put(b6,b1),1) -occurs(put(b7,b1),1) -occurs(put(b1,b2),1) -occurs(put(b1,b3),1) -occurs(put(b1,b4),1) -occurs(put(b1,b5),1) -occurs(put(b1,b6),1) -occurs(put(b1,b7),1) -occurs(put(b2,t),1) -occurs(put(b3,b2),1) -occurs(put(b4,b2),1) -occurs(put(b5,b2),1) -occurs(put(b6,b2),1) -occurs(put(b7,b2),1) -occurs(put(b2,b3),1) -occurs(put(b2,b4),1) -occurs(put(b2,b5),1) -occurs(put(b2,b6),1) -occurs(put(b2,b7),1) -occurs(put(b3,t),1) -occurs(put(b4,b3),1) -occurs(put(b5,b3),1) -occurs(put(b6,b3),1) -occurs(put(b7,b3),1) -occurs(put(b3,b4),1) -occurs(put(b3,b5),1) -occurs(put(b3,b6),1) -occurs(put(b3,b7),1) -occurs(put(b4,t),1) -occurs(put(b5,b4),1) -occurs(put(b6,b4),1) -occurs(put(b7,b4),1) -occurs(put(b4,b5),1) -occurs(put(b4,b6),1) -occurs(put(b4,b7),1) -occurs(put(b5,t),1) -occurs(put(b6,b5),1) -occurs(put(b7,b5),1) -occurs(put(b5,b6),1) -occurs(put(b5,b7),1) -occurs(put(b6,t),1) -occurs(put(b7,b6),1) -occurs(put(b6,b7),1) -occurs(put(b7,t),1) -occurs(put(b7,b7),1) -occurs(put(t,t),1) -occurs(put(t,b0),1) -occurs(put(t,b1),1) -occurs(put(t,b2),1) -occurs(put(t,b3),1) -occurs(put(t,b4),1) -occurs(put(t,b5),1) -occurs(put(t,b6),1) -occurs(put(t,b7),1)\r\n",
      "SATISFIABLE\r\n",
      "\r\n",
      "Models       : 1\r\n",
      "Calls        : 1\r\n",
      "Time         : 0.007s (Solving: 0.00s 1st Model: 0.00s Unsat: 0.00s)\r\n",
      "CPU Time     : 0.004s\r\n"
     ]
    }
   ],
   "source": [
    "! clingo chapter8_blocksal.lp"
   ]
  },
  {
   "cell_type": "markdown",
   "id": "c53578ca",
   "metadata": {},
   "source": [
    "# Question 1\n",
    "\n",
    "Prove that\n",
    "(a) Every state of system description SD satisfies the state constraints\n",
    "of SD.\n",
    "\n",
    "State in SD is a consistent set of fluent literals. State constraints are imposed on these fluent literals and must always be satisfied by them; any action a leading to a new state will have to lead to a state, by the inertia and transition laws, that is also satisfied by the state constrains.\n",
    "\n",
    "(b) If the signature of SD does not contain defined fluents, a state is a\n",
    "complete, consistent set of literals satisfying the state constraints\n",
    "of SD.\n",
    "\n",
    "Fluents are divied into intertial and defined fluents, where inertial fluents can be changed by actions and are subject to the inertia axiom (will stay the same unless acted upon) while defined fluents are not subject to the inertia axiom and are defined by other fluents. A state of SD is complete if it contains p or -p for any domain property p, and consistent if there is no domain property that has both p and -p within SD. Without defined fluents, as given by part a, any action will have to lead to a state that still satisfies the state constraints, as all domain properties are subject to the inertia axiom."
   ]
  },
  {
   "cell_type": "markdown",
   "id": "40728f61",
   "metadata": {},
   "source": [
    "# Question 2\n",
    "\n",
    "Given the following AL system description where fluents f and g are\n",
    "inertial and h is defined,\n",
    "\n",
    "*a **causes** f **if** g*\n",
    "*h **if** , g*\n",
    "\n",
    "(a) Show its translation into the corresponding ASP program.\n",
    "\n",
    "holds(f, I+1) :- holds(g, I),\n",
    "occurs(a, I),\n",
    "I<n. \n",
    "\n",
    "holds(h, I) :- holds(g, I).\n",
    "\n",
    "\n",
    "(b) Check if each of the following is a valid state:\n",
    "\n",
    "i. σ = {f, ¬g, ¬h} - yes\n",
    "ii. σ = {¬f, ¬g, ¬h} - yes\n",
    "iii. σ = {¬f, g, h} - no\n",
    "iv. σ = {f, g, ¬h} - no\n",
    "\n",
    "\n",
    "(c) Draw the transition diagram for the system.\n"
   ]
  },
  {
   "cell_type": "markdown",
   "id": "097465d0",
   "metadata": {},
   "source": [
    "# Question 3\n",
    "\n",
    "Consider the system description presented in Section 8.6.\n",
    "\n",
    "(a) Explain why {f, p, q} is not a valid state of this system description.\n",
    "\n",
    "Non-deterministic state - by rules 2 and 3, we should either have -q or -p.\n",
    "\n",
    "(b) Add causal law b causes ¬f if f to the system description and\n",
    "draw the corresponding transition diagram\n",
    "\n",
    "1. a causes f if ¬f\n",
    "2. ¬q if f, p\n",
    "3. ¬p if f, q\n",
    "3. b causes ¬f if f\n",
    "\n",
    "(same as before but b with arrows going back where a is going?)"
   ]
  },
  {
   "cell_type": "markdown",
   "id": "d8323c24",
   "metadata": {},
   "source": [
    "# Question 4\n",
    "\n",
    "4. Given the following story: Jenny painted the wall white.\n",
    "\n",
    "(a) Represent the story in AL. Assume that to paint a wall a given\n",
    "color, one must have paint of the appropriate color. Initially the\n",
    "wall is yellow and Jenny has the white paint. Jenny paints the wall\n",
    "at step 0. Make sure that your theory entails that at the end of the\n",
    "story the wall is white and not yellow.\n",
    "\n",
    "jenny causes white_wall if has_white_paint.\n",
    "\n",
    "\n",
    "(b) Translate the representation to ASP and run it using an ASP solver\n",
    "to predict the values of fluents if Jenny paints the wall white.\n",
    "\n",
    "\n",
    "\n",
    "\n",
    "(c) Now suppose Jenny has black paint as well and, after painting the\n",
    "wall white, decides to paint it black. Use ASP to do some temporal\n",
    "projection about the values of the fluents after both actions are\n",
    "performed sequentially.\n",
    "\n"
   ]
  },
  {
   "cell_type": "code",
   "execution_count": 1,
   "id": "78c5f177",
   "metadata": {},
   "outputs": [
    {
     "name": "stdout",
     "output_type": "stream",
     "text": [
      "Overwriting chapter8_question4_paintingwalls.sp\n"
     ]
    }
   ],
   "source": [
    "%%file chapter8_question4_paintingwalls.sp\n",
    "\n",
    "#maxint=1000.\n",
    "sorts\n",
    "#inertial_fluent={white_wall} + {yellow_wall} + {black_wall}.\n",
    "#defined_fluent={has_white} + {has_black}.\n",
    "#fluent=#inertial_fluent + #defined_fluent.\n",
    "#action={paint_wall_white} + {paint_wall_black}.\n",
    "#step=0..2.\n",
    "predicates\n",
    "holds(#fluent,#step).\n",
    "occurs(#action,#step).\n",
    "\n",
    "rules\n",
    "%initial:\n",
    "holds(yellow_wall,0).\n",
    "holds(has_white,0).\n",
    "holds(has_black,0).\n",
    "%% \n",
    "-holds(has_white,0) :- not holds(has_white,0).\n",
    "holds(has_white,I+1) :- holds(has_white,I).\n",
    "-holds(has_black,0) :- not holds(has_black,0).\n",
    "holds(has_black,I+1) :- holds(has_black,I).\n",
    "\n",
    "%inertia axioms:\n",
    "\n",
    "holds(F,I+1) :- #inertial_fluent(F), holds(F,I), not -holds(F,I+1).\n",
    " \n",
    "-holds(F,I+1) :- #inertial_fluent(F), -holds(F,I), not holds(F,I+1). \n",
    "    \n",
    "%%rule\n",
    "    \n",
    "holds(white_wall,I+1) :- holds(has_white, I), \n",
    "    occurs(paint_wall_white,I),\n",
    "    I<n.\n",
    "    \n",
    "holds(black_wall,I+1) :- holds(has_black, I), \n",
    "    occurs(paint_wall_black,I),\n",
    "    I<n.\n",
    "\n",
    "%some actions:\n",
    "occurs(paint_wall_white,0).\n",
    "occurs(paint_wall_black,1).\n",
    "    \n",
    "%now outputs yes to query holds(white_wall, 1).\n",
    "%could definitely be coded better next time where we have colours in some sort of set "
   ]
  },
  {
   "cell_type": "code",
   "execution_count": null,
   "id": "35be5bc3",
   "metadata": {},
   "outputs": [
    {
     "name": "stdout",
     "output_type": "stream",
     "text": [
      "SPARC  V2.57\n",
      "program translated\n",
      "?- "
     ]
    }
   ],
   "source": [
    "! java -jar sparc.jar chapter8_question4_paintingwalls.sp"
   ]
  },
  {
   "cell_type": "markdown",
   "id": "68a33219",
   "metadata": {},
   "source": [
    "# Question 5\n",
    "\n",
    "Given the following story: Claire always carries her cell phone with\n",
    "her. Claire is at the library.\n",
    "\n",
    "(a) Represent the story in AL. Include any commonsense knowledge\n",
    "necessary to answer the question, “Where is Claire’s cell phone?”\n",
    "Make the representation general enough so that when you add\n",
    "the fact that Claire went home, her cell phone’s location changed\n",
    "accordingly. Also make it general enough that if we change the cell\n",
    "phone to a pet chihuahua, your program will still make the proper\n",
    "conclusions. Assume locations are distinct. Hint: Use the inertial\n",
    "fluent carried(Obj, P erson) – the object is carried by the person.\n",
    "\n",
    "statics = {claire, objects}\n",
    "cell phone subclass of objects\n",
    "inertial_fluents = carried(object, person)\n",
    "defined_fluents = at(object, location), at(person,location)\n",
    "actions = go(location, person)\n",
    "\n",
    "state constraints:\n",
    "\n",
    "if carried(object,person) then at(object,location) :- at(person, location)\n",
    "\n",
    "(otherwise inertia axiom)\n",
    "\n",
    "causal law:\n",
    "\n",
    "if go(location, person) :- at(person, location)\n",
    "\n",
    "(b) Translate the representation to ASP and run it using an ASP solver\n",
    "to predict the values of fluents after Claire returns home.\n",
    "\n",
    "(c) Modify your program to include that Rod carries a towel with him\n",
    "everywhere and that Claire and Rod are never at the same place\n",
    "at the same time. Make sure that your program can conclude that\n",
    "Claire’s cell phone and Rod’s towel are also not at the same place at\n",
    "the same time, even when it does not know where Rod is initially."
   ]
  },
  {
   "cell_type": "code",
   "execution_count": 19,
   "id": "4bd9a053",
   "metadata": {},
   "outputs": [
    {
     "name": "stdout",
     "output_type": "stream",
     "text": [
      "Overwriting chapter8_question5_cellphonesnchihuahas.sp\n"
     ]
    }
   ],
   "source": [
    "%%file chapter8_question5_cellphonesnchihuahas.sp\n",
    "\n",
    "#maxint=1000.\n",
    "sorts\n",
    "#object = {cellphone,chihuaha, towel}.\n",
    "#person = {claire, rod}.\n",
    "#location = {home, library}.\n",
    "#fluent=at(#object, #location) + carried(#object, #person) + at(#person, #location).\n",
    "#action=go(#person, #location).\n",
    "#step=0..2.\n",
    "predicates\n",
    "holds(#fluent,#step).\n",
    "occurs(#action,#step).\n",
    "    \n",
    "rules\n",
    "%initial:\n",
    "holds(at(claire, library),0).\n",
    "holds(carried(cellphone, claire),0).\n",
    "holds(carried(towel, rod),0).\n",
    "    \n",
    "%inertia axioms:\n",
    "\n",
    "holds(F,I+1) :- #fluent(F), holds(F,I), not -holds(F,I+1).\n",
    " \n",
    "-holds(F,I+1) :- #fluent(F), -holds(F,I), not holds(F,I+1). \n",
    "       \n",
    "%moving locations causes person to be at new location\n",
    "       \n",
    "holds(at(P, L), I+1) :- occurs(go(P, L), I), I < n.\n",
    "    \n",
    "-holds(at(P,L), I) :- holds(at(P,L2), I), \n",
    "    L != L2.\n",
    "    \n",
    "-holds(at(claire, L),I) :- holds(at(rod, L), I).\n",
    "\n",
    "-holds(at(rod, L),I) :- holds(at(claire, L), I).\n",
    "\n",
    "holds(at(O, L), I) :- holds(carried(O, P), I), holds(at(P, L), I), I < n.\n",
    "    \n",
    "-holds(at(O, L), I) :- not holds(at(O, L), I), I < n.\n",
    "       \n",
    "%what happens:   \n",
    "occurs(go(claire, home),1).\n",
    "    \n",
    "%correctly outputs unknown to queries about towel at time 0 but no to if its at the lib since thats where claire is"
   ]
  },
  {
   "cell_type": "markdown",
   "id": "57ff0495",
   "metadata": {},
   "source": [
    "# Question 7\n",
    "\n",
    "Given the following story: Jonathan has requirements for playing the\n",
    "Wii: He should make sure that his homework is done, the bed is made,\n",
    "and he has practiced Tae Kwon Do. He can only do one thing at a\n",
    "time. Of course, he cannot make the bed if it already made or do his\n",
    "homework if it is already done or if none was assigned.\n",
    "(a) Select an initial situation and a sequence of Jonathan’s actions that\n",
    "would allow him to play the Wii. Represent the resulting story in\n",
    "AL. Hint: Create a sort activity for homework, make bed, TKD,\n",
    "and Wii. Then use actions do(hw), do(make bed), do(tkd), and\n",
    "do(wii) to make it easy to express the requirement that actions be\n",
    "mutually exclusive.\n",
    "(b) Translate the representation to ASP and run it using an ASP solver\n",
    "to answer questions about whether a boy may play the Wii at various\n",
    "future moments. Make sure that the system description part of your\n",
    "program works for other variants of this story"
   ]
  },
  {
   "cell_type": "code",
   "execution_count": null,
   "id": "548bb3ec",
   "metadata": {},
   "outputs": [],
   "source": []
  }
 ],
 "metadata": {
  "kernelspec": {
   "display_name": "Python 3 (ipykernel)",
   "language": "python",
   "name": "python3"
  },
  "language_info": {
   "codemirror_mode": {
    "name": "ipython",
    "version": 3
   },
   "file_extension": ".py",
   "mimetype": "text/x-python",
   "name": "python",
   "nbconvert_exporter": "python",
   "pygments_lexer": "ipython3",
   "version": "3.11.4"
  }
 },
 "nbformat": 4,
 "nbformat_minor": 5
}
