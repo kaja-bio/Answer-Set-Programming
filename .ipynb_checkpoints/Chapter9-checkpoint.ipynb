{
 "cells": [
  {
   "cell_type": "code",
   "execution_count": 1,
   "id": "dc307776",
   "metadata": {},
   "outputs": [
    {
     "name": "stdout",
     "output_type": "stream",
     "text": [
      "Writing chapter9_planning.lp\n"
     ]
    }
   ],
   "source": [
    "%%file chapter9_planning.lp\n",
    "\n",
    "success :- goal(I),\n",
    "I <= n.\n",
    ":- not success.\n",
    "    \n",
    "1{occurs(A,I): action(A)}1 :- step(I),\n",
    "    not goal (I),\n",
    "    I < n.   "
   ]
  },
  {
   "cell_type": "code",
   "execution_count": 20,
   "id": "b1e59576",
   "metadata": {},
   "outputs": [
    {
     "name": "stdout",
     "output_type": "stream",
     "text": [
      "Overwriting chapter9_planningblockworld.lp\n"
     ]
    }
   ],
   "source": [
    "%%file chapter8_blocks.sp\n",
    "\n",
    "#maxint=1000.\n",
    "sorts\n",
    "#block=[b][0..7].\n",
    "#location=#block+{t}.\n",
    "#inertial_fluent=on(#block(X),#location(Y)):X!=Y.\n",
    "#defined_fluent=above(#block(X),#location(Y)):X!=Y.\n",
    "#fluent=#inertial_fluent + #defined_fluent.\n",
    "#action=put(#block(X),#location(Y)):X!=Y.\n",
    "#step=0..8.\n",
    "predicates\n",
    "holds(#fluent,#step).\n",
    "occurs(#action,#step).\n",
    "\n",
    "rules\n",
    "%initial:\n",
    "holds(on(b0,t),0).\n",
    "holds(on(b3,b0),0).\n",
    "holds(on(b2,b3),0).\n",
    "holds(on(b1,t),0).\n",
    "holds(on(b4,b1),0).\n",
    "holds(on(b5,t),0).\n",
    "holds(on(b6,b5),0).\n",
    "holds(on(b7,b6),0).\n",
    "%% If block B is not known to be on location L at step 0,\n",
    "%% then we assume it is not.\n",
    "-holds(on(B,L),0) :- not holds(on(B,L),0).\n",
    "holds(on(B,L),I+1) :- occurs(put(B,L),I).\n",
    "%rule1\n",
    "-holds(on(B,L2),I) :- holds(on(B,L1),I),L1 != L2.\n",
    "%% rule 2\n",
    "%Another useful rule says that no block can support more than one block\n",
    "%directly on top of it\n",
    "-holds(on(B2,B),I) :- holds(on(B1,B),I),B1 != B2,#block(B).\n",
    "%inertia axioms:\n",
    "\n",
    "holds(F,I+1) :- #inertial_fluent(F), holds(F,I), not -holds(F,I+1).\n",
    " \n",
    "-holds(F,I+1) :- #inertial_fluent(F), -holds(F,I), not holds(F,I+1). \n",
    "    \n",
    "%%rule3 - defining blocks above other blocks\n",
    "\n",
    "holds(above(B,L),I) :- holds(on(B,L),I).\n",
    "holds(above(B,L),I) :- holds(on(B,B1),I), holds(above(B1 ,L),I).\n",
    "-holds(above(B,L),I) :-  #defined_fluent(F), not holds(above(B,L),I).\n",
    "\n",
    "%impossibility:\n",
    "-occurs(put(B,L),I) :- holds(on(B1,B),I). %% rule 5a\n",
    "-occurs(put(B1,B),I) :- holds(on(B2,B),I), #block(B). %% rule 5b\n",
    "\n",
    "%some actions:\n",
    "occurs(put(b2,t),0).\n",
    "occurs(put(b7,b2),1).\n",
    "    \n",
    "goal(I) :-\n",
    "holds(on(b4 ,t),I), holds(on(b6 ,t),I),\n",
    "holds(on(b1 ,t),I), holds(on(b3 ,b4),I),\n",
    "holds(on(b7 ,b3),I), holds(on(b2 ,b6),I),\n",
    "holds(on(b0 ,b1),I), holds(on(b5 ,b0),I)."
   ]
  },
  {
   "cell_type": "code",
   "execution_count": 21,
   "id": "52df1b61",
   "metadata": {},
   "outputs": [
    {
     "name": "stdout",
     "output_type": "stream",
     "text": [
      "clingo version 5.7.1\n",
      "Reading from chapter9_planningblockworld.lp\n",
      "chapter9_planningblockworld.lp:19:24-43: info: atom does not occur in any rule head:\n",
      "  occurs(put(B,L),I)\n",
      "\n",
      "Solving...\n",
      "Answer: 1\n",
      "\n",
      "SATISFIABLE\n",
      "\n",
      "Models       : 1\n",
      "Calls        : 1\n",
      "Time         : 0.014s (Solving: 0.00s 1st Model: 0.00s Unsat: 0.00s)\n",
      "CPU Time     : 0.010s\n"
     ]
    }
   ],
   "source": [
    "! clingo 0 chapter9_planningblockworld.lp"
   ]
  },
  {
   "cell_type": "code",
   "execution_count": null,
   "id": "3bd6264f",
   "metadata": {},
   "outputs": [],
   "source": []
  }
 ],
 "metadata": {
  "kernelspec": {
   "display_name": "Python 3 (ipykernel)",
   "language": "python",
   "name": "python3"
  },
  "language_info": {
   "codemirror_mode": {
    "name": "ipython",
    "version": 3
   },
   "file_extension": ".py",
   "mimetype": "text/x-python",
   "name": "python",
   "nbconvert_exporter": "python",
   "pygments_lexer": "ipython3",
   "version": "3.11.4"
  }
 },
 "nbformat": 4,
 "nbformat_minor": 5
}
