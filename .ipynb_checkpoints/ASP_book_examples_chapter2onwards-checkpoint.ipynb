{
 "cells": [
  {
   "cell_type": "markdown",
   "id": "9a44c93d",
   "metadata": {},
   "source": [
    "# Chapter 2"
   ]
  },
  {
   "cell_type": "code",
   "execution_count": 5,
   "id": "454106bd",
   "metadata": {},
   "outputs": [
    {
     "name": "stdout",
     "output_type": "stream",
     "text": [
      "Overwriting example7.lp\n"
     ]
    }
   ],
   "source": [
    "%%file example7.lp\n",
    "% instance\n",
    "object(a).\n",
    "object(b).\n",
    "-s(a).\n",
    "% encoding\n",
    "p(X) :- not q(X), - s(X), object(X).\n",
    "q(X) :- not p(X), object(X).\n",
    "r(X) :- p(X), object(X).\n",
    "r(X) :- q(X), object(X)."
   ]
  },
  {
   "cell_type": "code",
   "execution_count": 2,
   "id": "33e2d92d",
   "metadata": {},
   "outputs": [
    {
     "name": "stdout",
     "output_type": "stream",
     "text": [
      "clingo version 5.7.1\r\n",
      "Reading from example7.lp\r\n",
      "Solving...\r\n",
      "Answer: 1\r\n",
      "object(a) object(b) -s(a) q(b) r(b) q(a) r(a)\r\n",
      "Answer: 2\r\n",
      "object(a) object(b) -s(a) q(b) r(b) p(a) r(a)\r\n",
      "SATISFIABLE\r\n",
      "\r\n",
      "Models       : 2\r\n",
      "Calls        : 1\r\n",
      "Time         : 0.003s (Solving: 0.00s 1st Model: 0.00s Unsat: 0.00s)\r\n",
      "CPU Time     : 0.001s\r\n"
     ]
    }
   ],
   "source": [
    "! clingo example7.lp 0"
   ]
  },
  {
   "cell_type": "code",
   "execution_count": 19,
   "id": "e1e4223d",
   "metadata": {},
   "outputs": [
    {
     "name": "stdout",
     "output_type": "stream",
     "text": [
      "Overwriting example8.lp\n"
     ]
    }
   ],
   "source": [
    "%%file example8.lp\n",
    "\n",
    "\n",
    "% Rules with variables\n",
    "object(a).\n",
    "object(b).\n",
    "\n",
    "p(a) | -p(b) :- object(a), object(b).\n",
    "q(X) :- -p(X), object(X).\n",
    "-q(X) :- not q(X), object(X).\n",
    "r(X) :- not p(X), object(X)."
   ]
  },
  {
   "cell_type": "code",
   "execution_count": 20,
   "id": "b262bd66",
   "metadata": {},
   "outputs": [
    {
     "name": "stdout",
     "output_type": "stream",
     "text": [
      "clingo version 5.7.1\r\n",
      "Reading from example8.lp\r\n",
      "Solving...\r\n",
      "Answer: 1\r\n",
      "object(a) object(b) -q(a) r(b) -p(b) r(a) q(b)\r\n",
      "Answer: 2\r\n",
      "object(a) object(b) -q(a) r(b) p(a) -q(b)\r\n",
      "SATISFIABLE\r\n",
      "\r\n",
      "Models       : 2\r\n",
      "Calls        : 1\r\n",
      "Time         : 0.004s (Solving: 0.00s 1st Model: 0.00s Unsat: 0.00s)\r\n",
      "CPU Time     : 0.002s\r\n"
     ]
    }
   ],
   "source": [
    "! clingo example8.lp 0"
   ]
  },
  {
   "cell_type": "code",
   "execution_count": 25,
   "id": "a81ca88d",
   "metadata": {},
   "outputs": [
    {
     "name": "stdout",
     "output_type": "stream",
     "text": [
      "Writing example10.lp\n"
     ]
    }
   ],
   "source": [
    "%%file example10.lp\n",
    "\n",
    "q(a).\n",
    "p(a) :- not p(b).\n",
    "p(b) :- not p(a).\n",
    "-q(b) :- p(X), not r(X)."
   ]
  },
  {
   "cell_type": "code",
   "execution_count": 26,
   "id": "7fa2f4ff",
   "metadata": {},
   "outputs": [
    {
     "name": "stdout",
     "output_type": "stream",
     "text": [
      "clingo version 5.7.1\r\n",
      "Reading from example10.lp\r\n",
      "example10.lp:5:20-24: info: atom does not occur in any rule head:\r\n",
      "  r(X)\r\n",
      "\r\n",
      "Solving...\r\n",
      "Answer: 1\r\n",
      "q(a) p(a) -q(b)\r\n",
      "Answer: 2\r\n",
      "q(a) p(b) -q(b)\r\n",
      "SATISFIABLE\r\n",
      "\r\n",
      "Models       : 2\r\n",
      "Calls        : 1\r\n",
      "Time         : 0.003s (Solving: 0.00s 1st Model: 0.00s Unsat: 0.00s)\r\n",
      "CPU Time     : 0.002s\r\n"
     ]
    }
   ],
   "source": [
    "! clingo example10.lp 0"
   ]
  },
  {
   "cell_type": "markdown",
   "id": "62c490e3",
   "metadata": {},
   "source": [
    "# Question 10:\n",
    "Either the supply was increased or price controls were instituted. Instituting price controls leads to shortages. There are no shortages.” Use zero-arity predicate symbolsincreased supply, price controls and shortages."
   ]
  },
  {
   "cell_type": "code",
   "execution_count": 33,
   "id": "8f7efa0f",
   "metadata": {},
   "outputs": [
    {
     "name": "stdout",
     "output_type": "stream",
     "text": [
      "Overwriting example11.lp\n"
     ]
    }
   ],
   "source": [
    "%%file example11.lp\n",
    "increased_supply | price_controls.\n",
    "shortages :- price_controls.\n",
    "-shortages."
   ]
  },
  {
   "cell_type": "code",
   "execution_count": 34,
   "id": "53f0244a",
   "metadata": {},
   "outputs": [
    {
     "name": "stdout",
     "output_type": "stream",
     "text": [
      "clingo version 5.7.1\r\n",
      "Reading from example11.lp\r\n",
      "Solving...\r\n",
      "Answer: 1\r\n",
      "-shortages increased_supply\r\n",
      "SATISFIABLE\r\n",
      "\r\n",
      "Models       : 1\r\n",
      "Calls        : 1\r\n",
      "Time         : 0.003s (Solving: 0.00s 1st Model: 0.00s Unsat: 0.00s)\r\n",
      "CPU Time     : 0.001s\r\n"
     ]
    }
   ],
   "source": [
    "! clingo example11.lp 0"
   ]
  },
  {
   "cell_type": "markdown",
   "id": "38c33eef",
   "metadata": {},
   "source": [
    "# Question 12\n",
    "Consider the following story. “If Jim does not buy toys for his children,\n",
    "Jim’s children will not receive toys for Christmas. If Jim’s children\n",
    "do not write their Christmas letters, Jim will not buy them toys. Jim’s\n",
    "children do receive toys for Christmas.” Assume that the intended interpretation of this story implies that Jim’s children wrote their Christmas\n",
    "letters.\n",
    "(a) Translate the story into an ASP program and compute the answer\n",
    "set. Use disjunction to encode the law of the exclusive middle to\n",
    "allow the program to come to the proper conclusion.\n",
    "(b) Translate the story into an ASP program and compute the answer\n",
    "set, this time making the contrapositive explicit for each statement."
   ]
  },
  {
   "cell_type": "code",
   "execution_count": null,
   "id": "495bd809",
   "metadata": {},
   "outputs": [],
   "source": []
  },
  {
   "cell_type": "markdown",
   "id": "a51c8490",
   "metadata": {},
   "source": [
    "# Chapter 4"
   ]
  },
  {
   "cell_type": "code",
   "execution_count": 110,
   "id": "593c34d5",
   "metadata": {},
   "outputs": [
    {
     "name": "stdout",
     "output_type": "stream",
     "text": [
      "Overwriting chapter4_example.lp\n"
     ]
    }
   ],
   "source": [
    "%%file chapter4_example.lp\n",
    "person(john).\n",
    "person(sam).\n",
    "person(alice).\n",
    "person(maxmillian).\n",
    "\n",
    "gender(male).\n",
    "gender(female).\n",
    "\n",
    "father(john ,sam).\n",
    "mother(alice ,sam).\n",
    "\n",
    "gender_of(john , male).\n",
    "gender_of(alice , female).\n",
    "gender_of(sam ,male).\n",
    "gender_of(maxmillian,male).\n",
    "\n",
    "parent(X,Y) :- father(X,Y).\n",
    "parent(X,Y) :- mother(X,Y).\n",
    "\n",
    "child(X,Y) :- parent(Y,X).\n",
    "    \n",
    "brother(X,Y) :- gender_of(X, male),\n",
    "father(F,X),\n",
    "father(F,Y),\n",
    "mother(M,X),\n",
    "mother(M,Y),\n",
    "X != Y.\n",
    "\n",
    "brother(john, maxmillian).\n",
    "\n",
    "brothers(X,Y) :- gender_of(X, male),\n",
    "gender_of(Y, male),\n",
    "father(F,X),\n",
    "father(F,Y),\n",
    "mother(M,X),\n",
    "mother(M,Y),\n",
    "X != Y.\n",
    "\n",
    "uncle(X,Y) :- gender_of(X, male),\n",
    "brother(F, X),\n",
    "father(F,Y),\n",
    "X != Y.\n",
    "\n",
    "%-father(X,Y) :- gender_of(X,female), person(Y).\n",
    "    % if we removed this line along with the definition of not a father, how would this affect the queries ?father(alice, bill)? father(bill, sam) ? father(john, bob)\n",
    "\n",
    "    \n",
    "% If you took care to define the sorts of parameters of predicates, a rule with an unsafe variable X can be turned\n",
    "% into a safe rule by adding the sort of X to the body.\n",
    "    \n",
    "%-father(X,Y) :- person(X),\n",
    "%father(Z,Y),\n",
    "%X != Z.\n",
    "\n",
    "person(bob).\n",
    "\n",
    "-father(X,Y) :- person(X), person(Y), not father(X,Y).\n",
    "-mother(X,Y) :- person(X), person(Y), not mother(X,Y).\n",
    "    \n",
    "query_father_of(alice, bill) :- father(alice,bill).\n",
    "query_father_of(bill,sam) :- father(bill,sam).\n",
    "query_father_of(john,sam) :- father(john,sam).\n",
    "\n",
    "#show uncle/2.\n",
    "#show query_father_of/2."
   ]
  },
  {
   "cell_type": "code",
   "execution_count": 111,
   "id": "6ff5847c",
   "metadata": {},
   "outputs": [
    {
     "name": "stdout",
     "output_type": "stream",
     "text": [
      "clingo version 5.7.1\r\n",
      "Reading from chapter4_example.lp\r\n",
      "Solving...\r\n",
      "Answer: 1\r\n",
      "query_father_of(john,sam) uncle(maxmillian,sam)\r\n",
      "SATISFIABLE\r\n",
      "\r\n",
      "Models       : 1\r\n",
      "Calls        : 1\r\n",
      "Time         : 0.005s (Solving: 0.00s 1st Model: 0.00s Unsat: 0.00s)\r\n",
      "CPU Time     : 0.002s\r\n"
     ]
    }
   ],
   "source": [
    "! clingo chapter4_example.lp"
   ]
  },
  {
   "cell_type": "code",
   "execution_count": 112,
   "id": "98c6443f",
   "metadata": {},
   "outputs": [
    {
     "name": "stdout",
     "output_type": "stream",
     "text": [
      "Overwriting chapter4_example2.lp\n"
     ]
    }
   ],
   "source": [
    "%%file chapter4_example2.lp\n",
    "\n",
    "person(mary).\n",
    "person(bob).\n",
    "person(mike).\n",
    "person(rich).\n",
    "person(kathy).\n",
    "person(patty).\n",
    "\n",
    "child(mary).\n",
    "child(bob).\n",
    "\n",
    "dead(rich).\n",
    "dead(patty).\n",
    "\n",
    " -child(X) :- person(X), not child(X).\n",
    "-father(F,C) :- person(F),child (C), not father(F,C).\n",
    "-mother(M,C) :- person(M), child (C),not mother(M,C).\n",
    "-dead(X) :- person (X), not dead(X). %can the statement person(X) be removed? nah, bcs to make it a safe variable u have to have a positive literal in the body\n",
    "    \n",
    "parents_dead(P) :- father(F,P), mother(M,P), dead(F), dead(M).\n",
    "-parents_dead(P) :- father(F,P), mother(M,P), not dead(F), not dead(M).\n",
    "\n",
    "% add code to reject input and state answer is unknown if there is a lack of info about both parents\n",
    "\n",
    "orphan(P) :- child (P), parents_dead(P).\n",
    "-orphan(X) :- person(X), -parents_dead(P)."
   ]
  },
  {
   "cell_type": "code",
   "execution_count": 113,
   "id": "a17ea924",
   "metadata": {},
   "outputs": [
    {
     "name": "stdout",
     "output_type": "stream",
     "text": [
      "Overwriting chapter4_example3.lp\n"
     ]
    }
   ],
   "source": [
    "%%file chapter4_example3.lp\n",
    "person(bill). person(mary). person(bob).\n",
    "person(kathy). person(mike). person(rich).\n",
    "person(patty). person(sam). person(susan).\n",
    "\n",
    "father(bob ,bill).\n",
    "father(rich ,bob).\n",
    "father(mike , mary).\n",
    "father(sam ,rich).\n",
    "mother(mary , bill).\n",
    "mother(patty ,bob).\n",
    "mother(kathy , mary).\n",
    "mother(susan , rich).\n",
    "\n",
    "-father(F,C) :- person(F), person(C), not father(F,C).\n",
    "-mother(M,C) :- person(M), person(C), not mother(M,C).\n",
    "    \n",
    "parent(X,Y) :- father(X,Y).\n",
    "parent(X,Y) :- mother(X,Y).\n",
    " -parent(X,Y) :- person(X), person(Y),not parent(X,Y).\n",
    "\n",
    "ancestor(X,Y) :- parent(X,Y).\n",
    "ancestor(X,Y) :- parent(Z,Y),ancestor(X,Z).\n",
    "-ancestor(X,Y) :- person(X), person (Y), not ancestor(X,Y)."
   ]
  },
  {
   "cell_type": "code",
   "execution_count": 120,
   "id": "26a09f46",
   "metadata": {},
   "outputs": [
    {
     "name": "stdout",
     "output_type": "stream",
     "text": [
      "Overwriting chapter4_example4_circuits.lp\n"
     ]
    }
   ],
   "source": [
    "%%file chapter4_example4_circuits.lp\n",
    "\n",
    "wire(w0). \n",
    "wire(w1). \n",
    "wire(w2). \n",
    "wire(w3). \n",
    "wire(w4). \n",
    "wire(w5).\n",
    "wire(w6).\n",
    "\n",
    "gate(g0).\n",
    "type(g0, not_gate).\n",
    "input(g0, w0).\n",
    "output(g0, w1).\n",
    "\n",
    "gate(g1).\n",
    "type(g1, and_gate).\n",
    "input(g1, w1).\n",
    "input(g1, w2).\n",
    "input(g1, w3).\n",
    "output(g1, w4).\n",
    "\n",
    "gate(g2).\n",
    "type(g2, or_gate).\n",
    "input(g2, w4).\n",
    "input(g2, w3).\n",
    "output(g2, w5).\n",
    "\n",
    "gate(g3).\n",
    "type(g3, and_gate).\n",
    "input(g3, w3).\n",
    "input(g3,w5).\n",
    "output(g3,w6).\n",
    "\n",
    "signal(0).\n",
    "signal(1).\n",
    "\n",
    "val(w0 ,0).\n",
    "val(w2 ,0).\n",
    "val(w3 ,0).\n",
    "\n",
    "% A NOT gate flips the value of the signal:\n",
    "\n",
    "opposite(0, 1).\n",
    "opposite(1, 0).\n",
    "\n",
    "val(W1, V1) :- output(G, W1),\n",
    "               type(G, not_gate),\n",
    "               input(G, W0),\n",
    "               val(W0, V0),\n",
    "               opposite(V1, V0).\n",
    "\n",
    "% The output of an AND gate is 0 if at least one input is 0:\n",
    "\n",
    "val(W1, 0) :- output(G, W1),\n",
    "              type(G, and_gate),\n",
    "              input(G, W0),\n",
    "              val(W0, 0).\n",
    "\n",
    "% It is 1 otherwise:\n",
    "\n",
    "val(W1, 1) :- output(G, W1),\n",
    "              type(G, and_gate),\n",
    "              -val(W1, 0).\n",
    "\n",
    "% The output of an OR gate is 1 if at least one input is 1:\n",
    "\n",
    "val(W1, 1) :- output(G, W1),\n",
    "              type(G, or_gate),\n",
    "              input(G, W0),\n",
    "              val(W0, 1).\n",
    "\n",
    "% It is 0 otherwise:\n",
    "\n",
    "val(W1, 0) :- output(G, W1),\n",
    "              type(G, or_gate),\n",
    "              -val(W1, 1).\n",
    "\n",
    "-val(W,V) :- wire(W), signal(V),not val(W,V).\n",
    "\n",
    "-val(W,V1) :- signal(V1), val(W,V2), V1 != V2.\n",
    "    \n",
    "\n",
    "% sensor rules and defective gate detection\n",
    "defective(G) :- output(G, Output_wire),\n",
    "                sensor_val(Output_wire, SV),\n",
    "                val(Output_wire, V),\n",
    "                SV != V.\n",
    "\n",
    "needs_replacing(G) :- defective(G).\n",
    "\n",
    "% dangerous to replace rule\n",
    "dangerous_to_replace(G) :- input(G, W),\n",
    "                           not val(W, 0).\n",
    "    \n",
    "#show val/2."
   ]
  },
  {
   "cell_type": "code",
   "execution_count": 121,
   "id": "4af14c2b",
   "metadata": {},
   "outputs": [
    {
     "name": "stdout",
     "output_type": "stream",
     "text": [
      "clingo version 5.7.1\n",
      "Reading from chapter4_example4_circuits.lp\n",
      "chapter4_example4_circuits.lp:85:17-44: info: atom does not occur in any rule head:\n",
      "  sensor_val(Output_wire,SV)\n",
      "\n",
      "Solving...\n",
      "Answer: 1\n",
      "val(w0,0) val(w2,0) val(w3,0) val(w4,0) val(w6,0) val(w1,1) val(w5,0)\n",
      "SATISFIABLE\n",
      "\n",
      "Models       : 1\n",
      "Calls        : 1\n",
      "Time         : 0.018s (Solving: 0.00s 1st Model: 0.00s Unsat: 0.00s)\n",
      "CPU Time     : 0.003s\n"
     ]
    }
   ],
   "source": [
    "! clingo chapter4_example4_circuits.lp"
   ]
  },
  {
   "cell_type": "code",
   "execution_count": 158,
   "id": "1d27fd86",
   "metadata": {},
   "outputs": [
    {
     "name": "stdout",
     "output_type": "stream",
     "text": [
      "Overwriting chapter4_example5_submarines.lp\n"
     ]
    }
   ],
   "source": [
    "%%file chapter4_example5_submarines.lp\n",
    "\n",
    "%Modify the existing vehicle hierarchy to add the new subclasses and\n",
    "%member shown in Figure 4.6. Add some property of water vehicles to\n",
    "%your program and make sure that the Narwhal inherits this property\n",
    "%and Abby does not.\n",
    "\n",
    "\n",
    "class(vehicle).\n",
    "class(water).\n",
    "class(air).\n",
    "class(land).\n",
    "class(ship).\n",
    "class(truck).\n",
    "class(car).\n",
    "class(airplane).\n",
    "class(sub).\n",
    "\n",
    "is_subclass(water,vehicle).\n",
    "is_subclass(land,vehicle).\n",
    "is_subclass(air,vehicle).\n",
    "is_subclass(car ,land).\n",
    "is_subclass(truck, land).\n",
    "is_subclass(airplane, air).\n",
    "is_subclass(ship, water).\n",
    "is_subclass(sub, water).\n",
    "\n",
    "-subclass(C1 ,C2) :- class(C1),\n",
    "class(C2),\n",
    "not subclass(C1 ,C2).\n",
    "\n",
    "subclass(C1, C2) :- is_subclass(C1, C2).\n",
    "subclass(C1, C3) :- is_subclass(C1, C2), subclass(C2, C3).\n",
    "\n",
    "object(narwhal).\n",
    "object(abby).\n",
    "\n",
    "is_a(narwhal ,sub).\n",
    "is_a(abby, car).\n",
    "\n",
    "member(X,C) :- is_a(X,C).\n",
    "member(X,C) :- is_a(X,C0), subclass(C0 ,C).\n",
    "    \n",
    "object(mystery).\n",
    "is_a(mystery , vehicle).\n",
    "\n",
    "siblings(C1 ,C2) :- is_subclass(C1 ,C), is_subclass(C2 ,C), C1 != C2.\n",
    "-member(X,C2) :- member(X,C1), siblings(C1 ,C2), C1 != C2.\n",
    "    \n",
    "color(black).\n",
    "color(red).\n",
    "color(white).\n",
    "\n",
    "has_color(X, black) :- member(X,sub).\n",
    "\n",
    "floats(X) :- member(X, water).\n",
    "    \n",
    "-has_color(X,C2) :- has_color(X,C1), color(C2), C1 != C2.\n",
    "    \n",
    "part_of( narwhal , us_navy).\n",
    "\n",
    "class(machine).\n",
    "is_subclass( vehicle , machine).\n",
    "\n",
    "used_for_travel(X) :- member(X,vehicle).\n",
    "    \n",
    "-alive(X) :- member(X,machine).\n",
    "    \n",
    "#show floats/1."
   ]
  },
  {
   "cell_type": "code",
   "execution_count": 159,
   "id": "3c1a0123",
   "metadata": {},
   "outputs": [
    {
     "name": "stdout",
     "output_type": "stream",
     "text": [
      "clingo version 5.7.1\r\n",
      "Reading from chapter4_example5_submarines.lp\r\n",
      "Solving...\r\n",
      "Answer: 1\r\n",
      "floats(narwhal)\r\n",
      "SATISFIABLE\r\n",
      "\r\n",
      "Models       : 1\r\n",
      "Calls        : 1\r\n",
      "Time         : 0.004s (Solving: 0.00s 1st Model: 0.00s Unsat: 0.00s)\r\n",
      "CPU Time     : 0.003s\r\n"
     ]
    }
   ],
   "source": [
    "! clingo chapter4_example5_submarines.lp"
   ]
  },
  {
   "cell_type": "markdown",
   "id": "907292c6",
   "metadata": {},
   "source": [
    "# Question 7: Directed graphs\n",
    "\n",
    "A directed graph G can be described by a set of vertices, represented by facts vertex(a), vertex(b),... and a set of edges, represented by facts edge(a, b), edge(a, c),... Use ASP to define relation\n",
    "connected(X, Y ) that holds iff there is a path in G connecting vertices\n",
    "X and Y\n",
    "\n",
    "# Question 8\n",
    "Consider a directed graph represented as in the previous exercise,\n",
    "but assume that some of its edges can be blocked (denoted as\n",
    "blocked(X, Y )). Redefine relation connected(X, Y ) as follows: Two\n",
    "vertices X and Y of the graph are connected iff there a path from X\n",
    "to Y such that no edge of this path is blocked."
   ]
  },
  {
   "cell_type": "code",
   "execution_count": 128,
   "id": "c34e145a",
   "metadata": {},
   "outputs": [
    {
     "name": "stdout",
     "output_type": "stream",
     "text": [
      "Overwriting chapter_4_question7_directedgraphs.lp\n"
     ]
    }
   ],
   "source": [
    "%%file chapter_4_question7_directedgraphs.lp\n",
    "\n",
    "vertex(a).\n",
    "vertex(b).\n",
    "vertex(c).\n",
    "vertex(d).\n",
    "vertex(e).\n",
    "vertex(f).\n",
    "\n",
    "edge(a,b).\n",
    "edge(a,c).\n",
    "edge(c,d).\n",
    "edge(e,f).\n",
    "\n",
    "connected(X,Y) :- edge(X,Y), not blocked(X,Y).\n",
    "connected(X,Y) :- edge(X,Z), not blocked(X,Z), edge(Z,Y), not blocked(Z,Y).\n",
    "    \n",
    "#show connected/2.\n",
    "    "
   ]
  },
  {
   "cell_type": "code",
   "execution_count": 129,
   "id": "0a398714",
   "metadata": {},
   "outputs": [
    {
     "name": "stdout",
     "output_type": "stream",
     "text": [
      "clingo version 5.7.1\r\n",
      "Reading from chapter_4_question7_directedgraphs.lp\r\n",
      "chapter_4_question7_directedgraphs.lp:14:34-46: info: atom does not occur in any rule head:\r\n",
      "  blocked(X,Y)\r\n",
      "\r\n",
      "chapter_4_question7_directedgraphs.lp:15:34-46: info: atom does not occur in any rule head:\r\n",
      "  blocked(X,Z)\r\n",
      "\r\n",
      "chapter_4_question7_directedgraphs.lp:15:63-75: info: atom does not occur in any rule head:\r\n",
      "  blocked(Z,Y)\r\n",
      "\r\n",
      "Solving...\r\n",
      "Answer: 1\r\n",
      "connected(a,d) connected(a,b) connected(a,c) connected(c,d) connected(e,f)\r\n",
      "SATISFIABLE\r\n",
      "\r\n",
      "Models       : 1\r\n",
      "Calls        : 1\r\n",
      "Time         : 0.004s (Solving: 0.00s 1st Model: 0.00s Unsat: 0.00s)\r\n",
      "CPU Time     : 0.002s\r\n"
     ]
    }
   ],
   "source": [
    "! clingo chapter_4_question7_directedgraphs.lp"
   ]
  },
  {
   "cell_type": "markdown",
   "id": "1e2acf1f",
   "metadata": {},
   "source": [
    "# Question 9\n",
    "“Jets are faster than birds. There is an eagle that is faster than every\n",
    "robin. The SR-71 Blackbird is a jet. Jo is a robin.” Write a program to\n",
    "describe this story. Make sure that it can derive that the SR-71 is faster\n",
    "than Jo. Hint: Build a hierarchy of flying objects"
   ]
  },
  {
   "cell_type": "code",
   "execution_count": 143,
   "id": "5b4a7bb6",
   "metadata": {},
   "outputs": [
    {
     "name": "stdout",
     "output_type": "stream",
     "text": [
      "Overwriting chapter4_example9_birds.lp\n"
     ]
    }
   ],
   "source": [
    "%%file chapter4_example9_birds.lp\n",
    "\n",
    "class(flying_objects).\n",
    "class(jets).\n",
    "class(birds).\n",
    "class(robins).\n",
    "class(eagles).\n",
    "\n",
    "is_subclass(jets ,flying_objects).\n",
    "is_subclass(birds ,flying_objects).\n",
    "is_subclass(robins ,birds).\n",
    "is_subclass(eagles ,birds).\n",
    "\n",
    "subclass(C1 ,C2) :- is_subclass(C1 ,C2).\n",
    "subclass(C1 ,C2) :- is_subclass(C1 ,C3), subclass(C3 ,C2).\n",
    "\n",
    "-subclass(C1 ,C2) :- class(C1),\n",
    "class(C2),\n",
    "not subclass(C1 ,C2).\n",
    "\n",
    "-subclass(C1 ,C2) :- class(C1),\n",
    "class(C2),\n",
    "not subclass(C1 ,C2).\n",
    "\n",
    "object(jo).\n",
    "object(sr71backbird).\n",
    "\n",
    "is_a(jo,robins).\n",
    "is_a(sr71blackbird,jets).\n",
    "\n",
    "member(X,C) :- is_a(X,C).\n",
    "member(X,C) :- is_a(X,C0), subclass(C0 ,C).\n",
    "\n",
    "siblings(C1 ,C2) :- is_subclass(C1 ,C),\n",
    "is_subclass(C2 ,C),\n",
    "C1 != C2.\n",
    "-member(X,C2) :- member(X,C1),\n",
    "siblings(C1 ,C2),\n",
    "C1 != C2.\n",
    "\n",
    "faster_than(jets, birds).\n",
    "faster_than(eagles, robins).\n",
    "\n",
    "faster_than(X, Y) :- member(X, C1), member(Y, C2), faster_than(C1, C2).\n",
    "\n",
    "faster_than(X, Z) :- faster_than(X, Y), faster_than(Y, Z).\n",
    "    \n",
    "#show faster_than/2."
   ]
  },
  {
   "cell_type": "code",
   "execution_count": 144,
   "id": "9dfcec5a",
   "metadata": {},
   "outputs": [
    {
     "name": "stdout",
     "output_type": "stream",
     "text": [
      "clingo version 5.7.1\r\n",
      "Reading from chapter4_example9_birds.lp\r\n",
      "Solving...\r\n",
      "Answer: 1\r\n",
      "faster_than(jets,birds) faster_than(eagles,robins) faster_than(sr71blackbird,jo)\r\n",
      "SATISFIABLE\r\n",
      "\r\n",
      "Models       : 1\r\n",
      "Calls        : 1\r\n",
      "Time         : 0.004s (Solving: 0.00s 1st Model: 0.00s Unsat: 0.00s)\r\n",
      "CPU Time     : 0.002s\r\n"
     ]
    }
   ],
   "source": [
    "! clingo chapter4_example9_birds.lp"
   ]
  },
  {
   "cell_type": "markdown",
   "id": "0f5df6fc",
   "metadata": {},
   "source": [
    "# Question 11\n",
    "\n",
    "Consider a hierarchy where *is_a* is applicable only to members of leaf\n",
    "classes. Note that this would imply that information about membership\n",
    "is complete.\n",
    "(a) Give a recursive definition of membership using CWA. (Make sure\n",
    "¬member is part of your definition.)\n",
    "(b) The program in Exercise 11a still has the assumption that sibling classes are disjoint. Create a new program by removing this\n",
    "assumption. Compare the two programs. Do they have the same\n",
    "answer sets? Do they behave equivalently under updates? Hint:\n",
    "Consider the addition of an element that belongs to two subclasses\n",
    "of the program.\n",
    "\n",
    "**CWA = closed world assumption\n",
    "leaf class = class that doesn't have further subclasses, i.e. a terminal node**\n"
   ]
  },
  {
   "cell_type": "code",
   "execution_count": 201,
   "id": "9140ad22",
   "metadata": {},
   "outputs": [
    {
     "name": "stdout",
     "output_type": "stream",
     "text": [
      "Overwriting chapter4_question11.lp\n"
     ]
    }
   ],
   "source": [
    "%%file chapter4_question11.lp\n",
    "\n",
    "class(organism).\n",
    "class(animal).\n",
    "class(dog).\n",
    "class(cat).\n",
    "\n",
    "object(spot).\n",
    "object(poppy).\n",
    "\n",
    "is_subclass(animal, organism).\n",
    "is_subclass(dog, animal).\n",
    "is_subclass(cat, animal).\n",
    "\n",
    "is_a(spot, dog).\n",
    "is_a(poppy, cat).\n",
    "is_a(poppy, dog).\n",
    "\n",
    "subclass(C1 ,C2) :- is_subclass(C1 ,C2).\n",
    "subclass(C1 ,C2) :- is_subclass(C1 ,C3), subclass(C3 ,C2).\n",
    "    \n",
    "-leaf_class(X) :- class(X), class(C), subclass(C, X).\n",
    "leaf_class(X) :- class(X), not -leaf_class(X).\n",
    "    \n",
    "member(X,C) :- is_a(X, C), object(X), class(C), leaf_class(C).\n",
    "-not_member(X, C) :- object(X), class(C), not member(X, C).\n",
    "    \n",
    "siblings(C1 ,C2) :- is_subclass(C1 ,C), is_subclass(C2 ,C), C1 != C2.\n",
    "-member(X,C2) :- member(X,C1), siblings(C1 ,C2), C1 != C2.\n",
    "    \n",
    "#show leaf_class/1.\n",
    "#show member/2."
   ]
  },
  {
   "cell_type": "code",
   "execution_count": 202,
   "id": "480f3997",
   "metadata": {},
   "outputs": [
    {
     "name": "stdout",
     "output_type": "stream",
     "text": [
      "clingo version 5.7.1\r\n",
      "Reading from chapter4_question11.lp\r\n",
      "Solving...\r\n",
      "UNSATISFIABLE\r\n",
      "\r\n",
      "Models       : 0\r\n",
      "Calls        : 1\r\n",
      "Time         : 0.001s (Solving: 0.00s 1st Model: 0.00s Unsat: 0.00s)\r\n",
      "CPU Time     : 0.001s\r\n"
     ]
    }
   ],
   "source": [
    "! clingo chapter4_question11.lp"
   ]
  },
  {
   "cell_type": "code",
   "execution_count": 199,
   "id": "ba8c4d08",
   "metadata": {},
   "outputs": [
    {
     "name": "stdout",
     "output_type": "stream",
     "text": [
      "Writing chapter4_question11_nosiblings.lp\n"
     ]
    }
   ],
   "source": [
    "%%file chapter4_question11_nosiblings.lp\n",
    "\n",
    "class(organism).\n",
    "class(animal).\n",
    "class(dog).\n",
    "class(cat).\n",
    "\n",
    "object(spot).\n",
    "object(poppy).\n",
    "\n",
    "is_subclass(animal, organism).\n",
    "is_subclass(dog, animal).\n",
    "is_subclass(cat, animal).\n",
    "\n",
    "is_a(spot, dog).\n",
    "is_a(poppy, cat).\n",
    "is_a(poppy, dog).\n",
    "\n",
    "subclass(C1 ,C2) :- is_subclass(C1 ,C2).\n",
    "subclass(C1 ,C2) :- is_subclass(C1 ,C3), subclass(C3 ,C2).\n",
    "    \n",
    "-leaf_class(X) :- class(X), class(C), subclass(C, X).\n",
    "leaf_class(X) :- class(X), not -leaf_class(X).\n",
    "    \n",
    "member(X,C) :- is_a(X, C), object(X), class(C), leaf_class(C).\n",
    "-not_member(X, C) :- object(X), class(C), not member(X, C).\n",
    "    \n",
    "    \n",
    "#show leaf_class/1.\n",
    "#show member/2.\n",
    "%by removing the sibling rule, we can have smthn that fulfils two sibling subclasses without it being classed as unsatisfiable"
   ]
  },
  {
   "cell_type": "code",
   "execution_count": 200,
   "id": "b701e41c",
   "metadata": {},
   "outputs": [
    {
     "name": "stdout",
     "output_type": "stream",
     "text": [
      "clingo version 5.7.1\r\n",
      "Reading from chapter4_question11_nosiblings.lp\r\n",
      "Solving...\r\n",
      "Answer: 1\r\n",
      "leaf_class(dog) leaf_class(cat) member(spot,dog) member(poppy,dog) member(poppy,cat)\r\n",
      "SATISFIABLE\r\n",
      "\r\n",
      "Models       : 1\r\n",
      "Calls        : 1\r\n",
      "Time         : 0.004s (Solving: 0.00s 1st Model: 0.00s Unsat: 0.00s)\r\n",
      "CPU Time     : 0.002s\r\n"
     ]
    }
   ],
   "source": [
    "! clingo chapter4_question11_nosiblings.lp"
   ]
  },
  {
   "cell_type": "markdown",
   "id": "d7dea58a",
   "metadata": {},
   "source": [
    "# CHAPTER 5: Representing Defaults\n"
   ]
  },
  {
   "cell_type": "code",
   "execution_count": 182,
   "id": "93497f60",
   "metadata": {},
   "outputs": [
    {
     "name": "stdout",
     "output_type": "stream",
     "text": [
      "Writing chapter5_default_caring.lp\n"
     ]
    }
   ],
   "source": [
    "%%file chapter5_default_caring.lp\n",
    "\n",
    "person(john).\n",
    "person(sam).\n",
    "person(alice).\n",
    "\n",
    "father(john ,sam).\n",
    "mother(alice ,sam).\n",
    "\n",
    "parent(X,Y) :- father(X,Y).\n",
    "parent(X,Y) :- mother(X,Y).\n",
    "\n",
    "child(X,Y) :- parent(Y,X).\n",
    "    \n",
    "-cares(john ,X) :- child(X,john).\n",
    "    \n",
    "% default rule\n",
    "cares(X,Y) :- parent(X,Y),\n",
    "ab(d_cares(X,Y)),\n",
    "cares(X,Y).\n",
    "\n",
    "ab(d_cares(P,C)) :- person(P), person(C), not -absent(P).\n",
    "    \n",
    "-cares(P,X) :- parent(P,X), born_in(P,u).\n",
    "    \n",
    "ab(d_cares(P,X)) :- person (P), person(X), -born_in(P,u).\n",
    "    \n",
    "person(pit).\n",
    "person(kathy).\n",
    "person(jim).\n",
    "father(pit ,jim).\n",
    "mother(kathy ,jim).\n",
    "country(moldova).\n",
    "country(u).\n",
    "born_in(kathy , moldova).\n",
    "%% A person can only be born in one country\n",
    "-born_in(P,X) :- country(X),born_in(P, Y), X != Y.\n",
    "-absent(pit).\n",
    "-absent(kathy).\n",
    "\n",
    "#show cares/2."
   ]
  },
  {
   "cell_type": "code",
   "execution_count": 183,
   "id": "35d80c9c",
   "metadata": {},
   "outputs": [
    {
     "name": "stdout",
     "output_type": "stream",
     "text": [
      "clingo version 5.7.1\r\n",
      "Reading from chapter5_default_caring.lp\r\n",
      "Solving...\r\n",
      "Answer: 1\r\n",
      "\r\n",
      "SATISFIABLE\r\n",
      "\r\n",
      "Models       : 1\r\n",
      "Calls        : 1\r\n",
      "Time         : 0.010s (Solving: 0.00s 1st Model: 0.00s Unsat: 0.00s)\r\n",
      "CPU Time     : 0.002s\r\n"
     ]
    }
   ],
   "source": [
    "! clingo chapter5_default_caring.lp"
   ]
  },
  {
   "cell_type": "code",
   "execution_count": 203,
   "id": "8a30a053",
   "metadata": {},
   "outputs": [
    {
     "name": "stdout",
     "output_type": "stream",
     "text": [
      "Writing cowardly_students.lp\n"
     ]
    }
   ],
   "source": [
    "%%file cowardly_students.lp\n",
    "\n",
    "student( dave). student( mary). student(bob).student(pat).\n",
    "dept( english). dept(cs). dept(math).\n",
    "\n",
    "in(dave , english).\n",
    "in(mary ,cs).\n",
    "in(bob ,cs).\n",
    "in(pat ,math).\n",
    "\n",
    "-in(S,D1) :- dept(D1),\n",
    "in(S,D2),\n",
    "D1 != D2.\n",
    "\n",
    "afraid(S,math) :- student(S),\n",
    "not ab(d(S)),\n",
    "not -afraid(S,math).\n",
    "\n",
    "-afraid(mary , math).\n",
    "ab(d(mary)).\n",
    "\n",
    "-afraid(S,math) :- in(S,math).\n",
    "ab(d(S)) :- student(S),\n",
    "not -in(S,math).\n",
    "\n",
    "ab(d(S)) :- student(S),\n",
    "not -in(S,cs)."
   ]
  },
  {
   "cell_type": "code",
   "execution_count": 210,
   "id": "52292c73",
   "metadata": {},
   "outputs": [
    {
     "name": "stdout",
     "output_type": "stream",
     "text": [
      "Overwriting chapter5_nullvalues.lp\n"
     ]
    }
   ],
   "source": [
    "%%file chapter5_nullvalues.lp\n",
    "\n",
    "prof(mike). prof(john).\n",
    "course(pascal). course(c). course(prolog).\n",
    "\n",
    "teaches(mike , pascal).\n",
    "teaches(john ,c).\n",
    "teaches(staff , prolog).\n",
    "\n",
    "-teaches(P,C) :- prof (P), course (C), not ab(d(P,C)),\n",
    "not teaches(P,C).\n",
    "ab(d(P,C)) :- prof(P), teaches(staff ,C).\n",
    "    \n",
    "teaches(mike , prolog) | teaches(john , prolog).\n",
    "    \n",
    "#show teaches(mike, prolog)."
   ]
  },
  {
   "cell_type": "code",
   "execution_count": 211,
   "id": "b8fb4284",
   "metadata": {},
   "outputs": [
    {
     "name": "stdout",
     "output_type": "stream",
     "text": [
      "clingo version 5.7.1\r\n",
      "Reading from chapter5_nullvalues.lp\r\n",
      "Solving...\r\n",
      "Answer: 1\r\n",
      "course(pascal) course(c) course(prolog) prof(mike) prof(john) ab(d(mike,prolog)) ab(d(john,prolog)) teaches(mike,pascal) teaches(john,c) teaches(staff,prolog) -teaches(mike,c) -teaches(john,pascal) teaches(mike,prolog) teaches(john,prolog)\r\n",
      "SATISFIABLE\r\n",
      "\r\n",
      "Models       : 1+\r\n",
      "Calls        : 1\r\n",
      "Time         : 0.004s (Solving: 0.00s 1st Model: 0.00s Unsat: 0.00s)\r\n",
      "CPU Time     : 0.002s\r\n"
     ]
    }
   ],
   "source": [
    "! clingo chapter5_nullvalues.lp"
   ]
  },
  {
   "cell_type": "code",
   "execution_count": 215,
   "id": "3c6411e2",
   "metadata": {},
   "outputs": [
    {
     "name": "stdout",
     "output_type": "stream",
     "text": [
      "Overwriting chapter5_simplepriorities.lp\n"
     ]
    }
   ],
   "source": [
    "%%file chapter5_simplepriorities.lp\n",
    "\n",
    "record_for(bob).\n",
    "father(rich, bob).\n",
    "mother(patty, bob).\n",
    "child(bob).\n",
    "\n",
    "father(mike , mary).\n",
    "record_for( mike).\n",
    "\n",
    "record_for(rich).\n",
    "father(charles, rich).\n",
    "mother(susan, rich).\n",
    "dead(rich).\n",
    "\n",
    "record_for(patty).\n",
    "dead(patty).\n",
    "\n",
    "record_for(mary).\n",
    "child(mary).\n",
    "mother(patty, mary).\n",
    "\n",
    "-dead(P) :- record_for(P),\n",
    "not dead(P).\n",
    "\n",
    "-child(X) :- record_for(X),\n",
    "not child(X).\n",
    "\n",
    "orphan(P) :- child (P),\n",
    "parents_dead(P).\n",
    "\n",
    "-orphan(P) :- record_for (P),\n",
    "not may_be_orphan(P).\n",
    "\n",
    "may_be_orphan(P) :- record_for(P),\n",
    "child(P),\n",
    "not -parents_dead(P).\n",
    "\n",
    "parent(X,P) :- father(X,P).\n",
    "parent(X,P) :- mother(X,P).\n",
    "\n",
    "parents_dead(P) :- father(X,P),\n",
    "dead(X),\n",
    "mother(Y,P),\n",
    "dead(Y).\n",
    "\n",
    "-parents_dead(P) :- parent(X,P),\n",
    "-dead(X).\n",
    "\n",
    "program (0).\n",
    "program (1).\n",
    "\n",
    "entitled(X,1) :- record_for (X),\n",
    "orphan(X),\n",
    "not ab(d1(X)),\n",
    "not -entitled (X,1).\n",
    "entitled(X,0) :- record_for (X),\n",
    "child(X),\n",
    "not ab(d2(X)),\n",
    "not -entitled (X,0).\n",
    "-entitled(X,N2) :- program(N1), program(N2),\n",
    "record_for(X),\n",
    "entitled(X,N1),\n",
    "N1 != N2.\n",
    "\n",
    "-entitled(X,0) :- record_for(X),\n",
    "orphan(X).\n",
    "ab(d2(X)) :- record_for(X),\n",
    "not -orphan(X).\n",
    "\n",
    "-entitled(X,N) :- record_for(X),\n",
    "dead(X),\n",
    "program(N).\n",
    "-entitled(X,N) :- record_for(X),\n",
    "-child(X),\n",
    "program(N).\n",
    "\n",
    "check_status(X) :- record_for (X),\n",
    "not -orphan(X),\n",
    "not orphan(X).\n",
    "\n",
    "#show entitled/2.\n",
    "#show -entitled/2."
   ]
  },
  {
   "cell_type": "code",
   "execution_count": 216,
   "id": "3e48a326",
   "metadata": {},
   "outputs": [
    {
     "name": "stdout",
     "output_type": "stream",
     "text": [
      "clingo version 5.7.1\r\n",
      "Reading from chapter5_simplepriorities.lp\r\n",
      "chapter5_simplepriorities.lp:54:5-14: info: atom does not occur in any rule head:\r\n",
      "  ab(d1(X))\r\n",
      "\r\n",
      "Solving...\r\n",
      "Answer: 1\r\n",
      "-entitled(mike,0) -entitled(mike,1) -entitled(rich,0) -entitled(rich,1) -entitled(patty,0) -entitled(patty,1) -entitled(bob,0) entitled(bob,1) entitled(mary,0) -entitled(mary,1)\r\n",
      "SATISFIABLE\r\n",
      "\r\n",
      "Models       : 1\r\n",
      "Calls        : 1\r\n",
      "Time         : 0.007s (Solving: 0.00s 1st Model: 0.00s Unsat: 0.00s)\r\n",
      "CPU Time     : 0.003s\r\n"
     ]
    }
   ],
   "source": [
    "! clingo chapter5_simplepriorities.lp"
   ]
  },
  {
   "cell_type": "code",
   "execution_count": 217,
   "id": "4aa6239b",
   "metadata": {},
   "outputs": [
    {
     "name": "stdout",
     "output_type": "stream",
     "text": [
      "Writing chapter5_specificityprinciple.lp\n"
     ]
    }
   ],
   "source": [
    "%%file chapter5_specificityprinciple.lp\n",
    "\n",
    "class(animal).\n",
    "class(bird).\n",
    "class(eagle).\n",
    "class(penguin).\n",
    "class(cat).\n",
    "\n",
    "object(sam).\n",
    "object(tweety).\n",
    "object(tabby).\n",
    "\n",
    "is_subclass(eagle, bird).\n",
    "is_subclass(penguin, bird).\n",
    "is_subclass(bird, animal).\n",
    "is_subclass(cat, animal).\n",
    "\n",
    "subclass(C1, C2) :- is_subclass(C1, C2).\n",
    "subclass(C1, C2) :- is_subclass(C1, C3), subclass(C3, C2).\n",
    "\n",
    "is_a(sam, eagle).\n",
    "is_a(tweety, penguin).\n",
    "is_a(tabby, cat).\n",
    "\n",
    "member(X, C) :- is_a(X, C).\n",
    "member(X, C) :- is_a(X, C0), subclass(C0, C).\n",
    "\n",
    "siblings(C1, C2) :- is_subclass(C1, C), is_subclass(C2, C), C1 != C2.\n",
    "-member(X, C2) :- member(X, C1), siblings(C1, C2), C1 != C2, not member(X, C2).\n",
    "\n",
    "%% Animals normally do not fly.\n",
    "-fly(X) :- member(X,animal),\n",
    "not ab(d1(X)),\n",
    "not fly(X).\n",
    "\n",
    "%% Birds normally fly.\n",
    "fly(X) :- member(X,bird),\n",
    "not ab(d2(X)),\n",
    "not -fly(X).\n",
    "\n",
    "%% Penguins normally do not fly.\n",
    "-fly(X) :- member(X,penguin),\n",
    "not ab(d3(X)),\n",
    "not fly(X).\n",
    "\n",
    "%% X is abnormal w.r.t d2 if X might be a penguin.\n",
    "ab(d2(X)) :- not -member(X,penguin).\n",
    "\n",
    "%% X is abnormal w.r.t d1 if X might be a bird.\n",
    "ab(d1(X)) :- not -member(X,bird)."
   ]
  },
  {
   "cell_type": "markdown",
   "id": "2b7f0a7c",
   "metadata": {},
   "source": [
    "# Question 1\n",
    "\n",
    "“Apollo and Helios are lions in a zoo. Normally lions are dangerous.\n",
    "Baby lions are not dangerous. Helios is a baby lion.” Assume that the\n",
    "zoo has a complete list of baby lions that it maintains regularly. Your\n",
    "program should be able to deduce that Apollo is dangerous, whereas\n",
    "Helios is not. Make sure that (a) if you add another baby lion to your\n",
    "knowledge base, the program would derive that it is not dangerous, even\n",
    "though that knowledge is not explicit; and (b) if you add an explicit fact\n",
    "that Apollo is not dangerous, there is no contradiction and the program\n",
    "answers intelligently."
   ]
  },
  {
   "cell_type": "code",
   "execution_count": 17,
   "id": "47c3890a",
   "metadata": {},
   "outputs": [
    {
     "name": "stdout",
     "output_type": "stream",
     "text": [
      "Overwriting chapter5_questionone.lp\n"
     ]
    }
   ],
   "source": [
    "%%file chapter5_questionone.lp\n",
    "%%file chapter5_questionone.lp\n",
    "\n",
    "class(animals).\n",
    "class(lions).\n",
    "class(babylions).\n",
    "\n",
    "is_subclass(lions, animals).\n",
    "is_subclass(babylions, lions).\n",
    "\n",
    "subclass(C1, C2) :- is_subclass(C1, C2).\n",
    "subclass(C1, C2) :- is_subclass(C1, C3), subclass(C3, C2).\n",
    "\n",
    "member(X, C) :- is_a(X, C).\n",
    "member(X, C) :- is_a(X, C0), subclass(C0, C).   \n",
    "\n",
    "siblings(C1, C2) :- is_subclass(C1, C), is_subclass(C2, C), C1 != C2.\n",
    "-member(X, C2) :- member(X, C1), siblings(C1, C2), C1 != C2, not member(X, C2).\n",
    "    \n",
    "is_a(apollo, lions).\n",
    "is_a(helios, babylions).\n",
    "is_a(new_baby, babylions).\n",
    "\n",
    "dangerous(X) :- member(X, lions),\n",
    "    not ab(d1(X)),\n",
    "    not -dangerous(X).\n",
    "\n",
    "-dangerous(X) :- member(X, babylions),\n",
    "    not ab(d2(X)),\n",
    "    not dangerous(X).\n",
    "\n",
    "ab(d1(X)) :- member(X, animals), not member(X, lions), not -member(X, lions).\n",
    "ab(d2(X)) :- member(X, lions), not member(X, babylions), not -member(X, babylions).\n",
    "    \n",
    "-dangerous(apollo).\n",
    "\n",
    "#show dangerous/1.\n",
    "#show -dangerous/1."
   ]
  },
  {
   "cell_type": "code",
   "execution_count": 18,
   "id": "ad07f5e8",
   "metadata": {},
   "outputs": [
    {
     "name": "stdout",
     "output_type": "stream",
     "text": [
      "clingo version 5.7.1\r\n",
      "Reading from chapter5_questionone.lp\r\n",
      "Solving...\r\n",
      "Answer: 1\r\n",
      "-dangerous(apollo) -dangerous(helios) -dangerous(new_baby)\r\n",
      "SATISFIABLE\r\n",
      "\r\n",
      "Models       : 1+\r\n",
      "Calls        : 1\r\n",
      "Time         : 0.003s (Solving: 0.00s 1st Model: 0.00s Unsat: 0.00s)\r\n",
      "CPU Time     : 0.002s\r\n"
     ]
    }
   ],
   "source": [
    "! clingo chapter5_questionone.lp"
   ]
  },
  {
   "cell_type": "markdown",
   "id": "5fa410bc",
   "metadata": {},
   "source": [
    "# Question 2\n",
    "\n",
    "“John is married to Susan and Bob is married to Mary. Married people\n",
    "normally like each other. However, Bob hates Mary.”\n",
    "\n",
    "(a) Make sure your program answers yes to queries\n",
    "\n",
    "? likes(john, susan),\n",
    "? likes(susan, john),\n",
    "? likes(mary, bob),\n",
    "\n",
    "and no to \n",
    "\n",
    "? likes(bob, mary).\n",
    "\n",
    "(b) Add the following knowledge to your program.\n",
    "\n",
    "“Arnold and Kate\n",
    "are also married, but Kate’s behavior often does not follow predictable rules.” Make sure your program can deduce that Arnold\n",
    "likes Kate, but it is unknown whether Kate likes Arnold. (Note\n",
    "that if you used the methodology properly, you should not need to\n",
    "change the first program but can just add to it.)"
   ]
  },
  {
   "cell_type": "code",
   "execution_count": 29,
   "id": "bdbb72c2",
   "metadata": {},
   "outputs": [
    {
     "name": "stdout",
     "output_type": "stream",
     "text": [
      "Overwriting chapter5_question2.lp\n"
     ]
    }
   ],
   "source": [
    "%%file chapter5_question2.lp\n",
    "\n",
    "person(susan).\n",
    "person(john).\n",
    "person(bob).\n",
    "person(mary).\n",
    "\n",
    "married_to(X,Y) :- married_to(Y,X).\n",
    "married_to(susan, john).\n",
    "married_to(bob, mary).\n",
    "\n",
    "likes(X,Y) :- married_to(X,Y),\n",
    "    not ab(X,Y),\n",
    "    not -likes(X,Y).\n",
    "\n",
    "-married_to(X,Y) :- person(X), person(Y), not married_to(X,Y).\n",
    "\n",
    "ab(X,Y) :- person(X), person(Y), not -married_to(X,Y), not married_to(X,Y).\n",
    "\n",
    "-likes(bob, mary).\n",
    "\n",
    "#show likes/2.\n",
    "#show -likes/2.\n",
    "\n",
    "person(arnold).\n",
    "person(kate).\n",
    "married_to(arnold, kate).\n",
    "ab(kate, arnold).\n"
   ]
  },
  {
   "cell_type": "code",
   "execution_count": 30,
   "id": "da57c745",
   "metadata": {},
   "outputs": [
    {
     "name": "stdout",
     "output_type": "stream",
     "text": [
      "clingo version 5.7.1\r\n",
      "Reading from chapter5_question2.lp\r\n",
      "Solving...\r\n",
      "Answer: 1\r\n",
      "likes(susan,john) likes(arnold,kate) likes(mary,bob) likes(john,susan) -likes(bob,mary)\r\n",
      "SATISFIABLE\r\n",
      "\r\n",
      "Models       : 1\r\n",
      "Calls        : 1\r\n",
      "Time         : 0.003s (Solving: 0.00s 1st Model: 0.00s Unsat: 0.00s)\r\n",
      "CPU Time     : 0.001s\r\n"
     ]
    }
   ],
   "source": [
    "! clingo chapter5_question2.lp"
   ]
  },
  {
   "cell_type": "markdown",
   "id": "f1f2d67b",
   "metadata": {},
   "source": [
    "# Question 3\n",
    "\n",
    "“American citizens normally live in the United States. American diplomats may or may not live in the United States. John, Miriam, and Caleb\n",
    "are American citizens. John lives in Italy. Miriam is an American\n",
    "diplomat.”\n",
    "\n",
    "(a) Assume we do not have a complete list of American diplomats.\n",
    "(Note that your program should not be able to conclude that Caleb\n",
    "lives in the United States.)\n",
    "\n",
    "(b) Now assume we have a complete list of American diplomats. Add\n",
    "this information to the program. What does your new program say\n",
    "about Caleb’s place of residence?\n",
    "\n",
    "(c) Rewrite the program from 3b by using the simplified form of the\n",
    "cancellation axiom."
   ]
  },
  {
   "cell_type": "code",
   "execution_count": 48,
   "id": "00b8a79f",
   "metadata": {},
   "outputs": [
    {
     "name": "stdout",
     "output_type": "stream",
     "text": [
      "Overwriting chapter5_question3.lp\n"
     ]
    }
   ],
   "source": [
    "%%file chapter5_question3.lp\n",
    "\n",
    "person(john).\n",
    "person(miriam).\n",
    "person(caleb).\n",
    "\n",
    "country(us).\n",
    "country(italy).\n",
    "\n",
    "citizen(john, us).\n",
    "citizen(miriam, us).\n",
    "citizen(caleb, us).\n",
    "\n",
    "diplomat(miriam, us).\n",
    "\n",
    "lives(X, C) :- citizen(X, C),\n",
    "    not -lives(X, C),\n",
    "    not ab(d(lives(X,C))).\n",
    "    \n",
    "-lives(X,C) :- country(C), lives(X, C1), C != C1.\n",
    "\n",
    "ab(d(lives(X,C))) :- person(X), country(C), not -diplomat(X,C).\n",
    "\n",
    "lives(john, italy).\n",
    "\n",
    "#show lives/2.\n",
    "\n",
    "%part b - which gives us the result that caleb lives in US.\n",
    "\n",
    "-diplomat(X,C) :- person(X), country(C), not diplomat(X,C).\n",
    "    \n",
    "%part c - would be reqwritten using:\n",
    "\n",
    "ab(d(lives(X,C))) :- person(X), country(C), diplomat(X,C)."
   ]
  },
  {
   "cell_type": "code",
   "execution_count": 49,
   "id": "e17cf49a",
   "metadata": {},
   "outputs": [
    {
     "name": "stdout",
     "output_type": "stream",
     "text": [
      "clingo version 5.7.1\r\n",
      "Reading from chapter5_question3.lp\r\n",
      "Solving...\r\n",
      "Answer: 1\r\n",
      "lives(john,italy) lives(caleb,us)\r\n",
      "SATISFIABLE\r\n",
      "\r\n",
      "Models       : 1\r\n",
      "Calls        : 1\r\n",
      "Time         : 0.003s (Solving: 0.00s 1st Model: 0.00s Unsat: 0.00s)\r\n",
      "CPU Time     : 0.001s\r\n"
     ]
    }
   ],
   "source": [
    "! clingo chapter5_question3.lp"
   ]
  },
  {
   "cell_type": "markdown",
   "id": "5fdcb89b",
   "metadata": {},
   "source": [
    "# Question 4\n",
    "\n",
    "\"Adults normally work. Children do not work. Students are adults but\n",
    "they normally do not work. John and Betty are students. John works.\n",
    "Bob and Jim are adults who are not students. Bob does not work. Kate\n",
    "is an adult who may or may not be a student. Mary is a child.” Make\n",
    "sure that your program is not only capable of answering questions about\n",
    "who works and does not work but also of who is or is not a child, an\n",
    "adult, and so on."
   ]
  },
  {
   "cell_type": "code",
   "execution_count": 58,
   "id": "5f1c3063",
   "metadata": {},
   "outputs": [
    {
     "name": "stdout",
     "output_type": "stream",
     "text": [
      "Overwriting chapter5_question4.lp\n"
     ]
    }
   ],
   "source": [
    "%%file chapter5_question4.lp\n",
    "\n",
    "person(john).\n",
    "person(betty).\n",
    "person(bob).\n",
    "person(jim).\n",
    "person(kate).\n",
    "person(mary).\n",
    "\n",
    "class(adult).\n",
    "class(child).\n",
    "class(student).\n",
    "\n",
    "is_subclass(student, adult).\n",
    "\n",
    "subclass(C1, C2) :- is_subclass(C1, C2).\n",
    "subclass(C1, C2) :- is_subclass(C1, C3), subclass(C3, C2).\n",
    "\n",
    "siblings(C1, C2) :- is_subclass(C1, C), is_subclass(C2, C), C1!= C2.\n",
    "\n",
    "member(X, C) :- is_a(X, C).\n",
    "member(X, C) :- is_a(X, C0), subclass(C0, C).   \n",
    "\n",
    "-member(X, C2) :- member(X, C1), siblings(C1, C2), C1 != C2, not member(X, C2).\n",
    "    \n",
    "is_a(john, student).\n",
    "is_a(betty, student).\n",
    "is_a(bob, adult).\n",
    "is_a(jim, adult).\n",
    "is_a(kate, adult).\n",
    "is_a(mary, child).\n",
    "\n",
    "employed(X) :- member(X, adult),\n",
    "    not ab(d(employed(X))),\n",
    "    not -employed(X).\n",
    "    \n",
    "ab(d(employed(X))) :- person(X), not -member(X, student).\n",
    "\n",
    "-employed(X) :- member(X, child).\n",
    "\n",
    "-employed(bob).\n",
    "\n",
    "-member(bob, student).\n",
    "-member(jim, student).\n",
    "\n",
    "#show member/2.\n",
    "#show -member/2.\n",
    "#show employed/1.\n",
    "#show -employed/1."
   ]
  },
  {
   "cell_type": "code",
   "execution_count": 59,
   "id": "b32bcba8",
   "metadata": {},
   "outputs": [
    {
     "name": "stdout",
     "output_type": "stream",
     "text": [
      "clingo version 5.7.1\r\n",
      "Reading from chapter5_question4.lp\r\n",
      "Solving...\r\n",
      "Answer: 1\r\n",
      "employed(jim) member(john,student) member(betty,student) member(bob,adult) member(jim,adult) member(kate,adult) member(mary,child) member(john,adult) member(betty,adult) -employed(bob) -employed(mary) -member(bob,student) -member(jim,student)\r\n",
      "SATISFIABLE\r\n",
      "\r\n",
      "Models       : 1\r\n",
      "Calls        : 1\r\n",
      "Time         : 0.003s (Solving: 0.00s 1st Model: 0.00s Unsat: 0.00s)\r\n",
      "CPU Time     : 0.002s\r\n"
     ]
    }
   ],
   "source": [
    "! clingo chapter5_question4.lp"
   ]
  },
  {
   "cell_type": "markdown",
   "id": "5c167d12",
   "metadata": {},
   "source": [
    "# Question 5\n",
    "\n",
    "“A field that studies pure ideas does not study the natural world. A field\n",
    "that studies the natural world does not study pure ideas. Mathematics\n",
    "normally studies pure ideas. Science normally studies the natural world.\n",
    "As a computer scientist, Daniela studies both mathematics and science.\n",
    "Both mathematics and science study our place in the world.” Make sure\n",
    "your program can deduce that Daniela studies our place in the world.\n",
    "\n",
    "*okay i dont get this is studying 'our place in the world' the same as studying the natural world?? are they different? this question is somewhat poorly worded lmao*"
   ]
  },
  {
   "cell_type": "markdown",
   "id": "e839feb1",
   "metadata": {},
   "source": [
    "# Question 6\n",
    "\n",
    "“Cars normally have four seats. Pick-up trucks are exceptions to this\n",
    "rule. They normally have two seats. Pick-up trucks with extended cab\n",
    "are exceptions to this rule. They have four seats.” Your program should\n",
    "work correctly in conjunction with complete lists of facts of the form\n",
    "\n",
    "car(a), car(b), car(c),...\n",
    "\n",
    "pickup(b), pickup(c),...\n",
    "\n",
    "extended cab(c),.."
   ]
  },
  {
   "cell_type": "code",
   "execution_count": 75,
   "id": "1c070f36",
   "metadata": {},
   "outputs": [
    {
     "name": "stdout",
     "output_type": "stream",
     "text": [
      "Overwriting chapter5_question6.lp\n"
     ]
    }
   ],
   "source": [
    "%%file chapter5_question6.lp\n",
    "\n",
    "%%file chapter5_question6.lp\n",
    "\n",
    "% Define classes\n",
    "class(car).\n",
    "class(pickup).\n",
    "class(extended_cab).\n",
    "\n",
    "\n",
    "is_subclass(pickup, car).\n",
    "is_subclass(extended_cab, pickup).\n",
    "\n",
    "object(a).\n",
    "object(b).\n",
    "object(c).\n",
    "\n",
    "\n",
    "is_a(a, car).\n",
    "is_a(b, pickup).\n",
    "is_a(c, extended_cab).\n",
    "\n",
    "subclass(C1, C2) :- is_subclass(C1, C2).\n",
    "subclass(C1, C2) :- is_subclass(C1, C3), subclass(C3, C2).\n",
    "\n",
    "member(X, C) :- is_a(X, C).\n",
    "member(X, C) :- is_a(X, C0), subclass(C0, C).\n",
    "\n",
    "siblings(C1, C2) :- is_subclass(C1, C), is_subclass(C2, C), C1 != C2.\n",
    "-member(X, C2) :- member(X, C1), siblings(C1, C2), C1 != C2, not member(X, C2).\n",
    "\n",
    "four_seats(X) :- member(X, car), not ab(d1(X)), not -four_seats(X).\n",
    "two_seats(X) :- member(X, pickup), not ab(d2(X)), not -two_seats(X).\n",
    "four_seats(X) :- member(X, extended_cab), not ab(d3(X)), not -four_seats(X).\n",
    "\n",
    "ab(d1(X)) :- member(X, pickup), not member(X, extended_cab).\n",
    "ab(d2(X)) :- member(X, extended_cab).\n",
    "ab(d3(X)) :- member(X, pickup), not member(X, extended_cab).\n",
    "\n",
    "#show four_seats/1.\n",
    "#show two_seats/1.\n"
   ]
  },
  {
   "cell_type": "code",
   "execution_count": 76,
   "id": "03362f6b",
   "metadata": {},
   "outputs": [
    {
     "name": "stdout",
     "output_type": "stream",
     "text": [
      "clingo version 5.7.1\r\n",
      "Reading from chapter5_question6.lp\r\n",
      "chapter5_question6.lp:32:53-67: info: atom does not occur in any rule head:\r\n",
      "  (-four_seats(X))\r\n",
      "\r\n",
      "chapter5_question6.lp:33:55-68: info: atom does not occur in any rule head:\r\n",
      "  (-two_seats(X))\r\n",
      "\r\n",
      "chapter5_question6.lp:34:62-76: info: atom does not occur in any rule head:\r\n",
      "  (-four_seats(X))\r\n",
      "\r\n",
      "Solving...\r\n",
      "Answer: 1\r\n",
      "four_seats(c) four_seats(a) two_seats(b)\r\n",
      "SATISFIABLE\r\n",
      "\r\n",
      "Models       : 1\r\n",
      "Calls        : 1\r\n",
      "Time         : 0.004s (Solving: 0.00s 1st Model: 0.00s Unsat: 0.00s)\r\n",
      "CPU Time     : 0.002s\r\n"
     ]
    }
   ],
   "source": [
    "! clingo chapter5_question6.lp"
   ]
  },
  {
   "cell_type": "markdown",
   "id": "ae825556",
   "metadata": {},
   "source": [
    "# Question 7\n",
    "\n",
    "You are given three complete lists of facts of the form\n",
    "\n",
    "*course(math), \n",
    "course(graphs),...\n",
    "student(john),\n",
    "student(mary),...\n",
    "took(john, math),\n",
    "took(mary, graphs),...*\n",
    "\n",
    "Students can graduate only if they have taken all the courses in the first\n",
    "list. Write a program that, given the above information, determines\n",
    "which students can graduate. Make sure that, given the following sample knowledge base,\n",
    "\n",
    "*student(john).\n",
    "student(mary).\n",
    "course(math).\n",
    "course(graphs).\n",
    "took(john, math).\n",
    "took(john, graphs).\n",
    "took(mary, graphs).*\n",
    "\n",
    "your program is able to\n",
    "conclude \n",
    "\n",
    "*can graduate(john).\n",
    "¬can graduate(mary)."
   ]
  },
  {
   "cell_type": "code",
   "execution_count": 5,
   "id": "194f757e",
   "metadata": {},
   "outputs": [
    {
     "name": "stdout",
     "output_type": "stream",
     "text": [
      "Overwriting chapter5_question7.lp\n"
     ]
    }
   ],
   "source": [
    "%%file chapter5_question7.lp\n",
    "\n",
    "course(math).\n",
    "course(graphs).\n",
    "\n",
    "student(john).\n",
    "student(mary).\n",
    "\n",
    "took(john,math).\n",
    "took(mary,graphs).\n",
    "took(john, graphs).\n",
    "\n",
    "can_graduate(X) :- student(X), not -can_graduate(X).\n",
    "    \n",
    "-can_graduate(X) :- student(X), course(C), not took(X, C).\n",
    "\n",
    "#show can_graduate/1.\n",
    "#show -can_graduate/1."
   ]
  },
  {
   "cell_type": "code",
   "execution_count": 6,
   "id": "e1c52b23",
   "metadata": {},
   "outputs": [
    {
     "name": "stdout",
     "output_type": "stream",
     "text": [
      "clingo version 5.7.1\r\n",
      "Reading from chapter5_question7.lp\r\n",
      "Solving...\r\n",
      "Answer: 1\r\n",
      "can_graduate(john) -can_graduate(mary)\r\n",
      "SATISFIABLE\r\n",
      "\r\n",
      "Models       : 1\r\n",
      "Calls        : 1\r\n",
      "Time         : 0.002s (Solving: 0.00s 1st Model: 0.00s Unsat: 0.00s)\r\n",
      "CPU Time     : 0.001s\r\n"
     ]
    }
   ],
   "source": [
    "! clingo chapter5_question7.lp"
   ]
  },
  {
   "cell_type": "markdown",
   "id": "e233db92",
   "metadata": {},
   "source": [
    "# Question 8\n",
    "\n",
    "Consider the problem presented in Exercise 7. This time, however,\n",
    "the list of courses that the students took may be incomplete. Write a\n",
    "program that determines\n",
    "• which students can graduate\n",
    "• which students cannot graduate\n",
    "• which students’ ability to graduate cannot be determined from the\n",
    "knowledge base; in this case, the program must recommend a review\n",
    "of the records of those students.\n",
    "Make sure that, given the following sample knowledge base,\n",
    "\n",
    "student(john).\n",
    "student(mary).\n",
    "student(bob).\n",
    "student(rick).\n",
    "course(math).\n",
    "course(graphs).\n",
    "took(john, math).\n",
    "took(john, graphs).\n",
    "¬took(mary, math).\n",
    "took(mary, graphs).\n",
    "¬took(bob, math).\n",
    "\n",
    "your program is able to conclude\n",
    "\n",
    "can graduate(john).\n",
    "¬can graduate(mary).\n",
    "¬can graduate(bob).\n",
    "review records(rick)."
   ]
  },
  {
   "cell_type": "code",
   "execution_count": null,
   "id": "98c363b0",
   "metadata": {},
   "outputs": [],
   "source": [
    "%%file chapter5_question7.lp\n",
    "\n",
    "course(math).\n",
    "course(graphs).\n",
    "\n",
    "student(john).\n",
    "student(mary).\n",
    "student(bob).\n",
    "student(rick).\n",
    "\n",
    "took(john,math).\n",
    "took(mary,graphs).\n",
    "took(john, graphs).\n",
    "-took(mary,math).\n",
    "-took(bob,math).\n",
    "\n",
    "can_graduate(X) :- student(X), course(C), took(X,C).\n",
    "    \n",
    "-can_graduate(X) :- student(X), course(C), -took(X, C).\n",
    "    \n",
    "review_records(X) :- student(X), course(C), not took(X, C).\n",
    "\n",
    "#show can_graduate/1.\n",
    "#show -can_graduate/1."
   ]
  }
 ],
 "metadata": {
  "kernelspec": {
   "display_name": "Python 3 (ipykernel)",
   "language": "python",
   "name": "python3"
  },
  "language_info": {
   "codemirror_mode": {
    "name": "ipython",
    "version": 3
   },
   "file_extension": ".py",
   "mimetype": "text/x-python",
   "name": "python",
   "nbconvert_exporter": "python",
   "pygments_lexer": "ipython3",
   "version": "3.11.4"
  }
 },
 "nbformat": 4,
 "nbformat_minor": 5
}
